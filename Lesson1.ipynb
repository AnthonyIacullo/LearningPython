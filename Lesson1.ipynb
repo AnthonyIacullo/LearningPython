{
  "nbformat": 4,
  "nbformat_minor": 0,
  "metadata": {
    "colab": {
      "name": "Lesson1.ipynb",
      "provenance": [],
      "authorship_tag": "ABX9TyPwArndd0TZYXZBYjZhpsrf",
      "include_colab_link": true
    },
    "kernelspec": {
      "name": "python3",
      "display_name": "Python 3"
    },
    "language_info": {
      "name": "python"
    }
  },
  "cells": [
    {
      "cell_type": "markdown",
      "metadata": {
        "id": "view-in-github",
        "colab_type": "text"
      },
      "source": [
        "<a href=\"https://colab.research.google.com/github/AnthonyIacullo/LearningPython/blob/main/Lesson1.ipynb\" target=\"_parent\"><img src=\"https://colab.research.google.com/assets/colab-badge.svg\" alt=\"Open In Colab\"/></a>"
      ]
    },
    {
      "cell_type": "code",
      "execution_count": 2,
      "metadata": {
        "colab": {
          "base_uri": "https://localhost:8080/",
          "height": 36
        },
        "id": "mKq-9Lc8hYZO",
        "outputId": "a4c5e545-7fe5-4853-c267-9b28e37695f5"
      },
      "outputs": [
        {
          "output_type": "execute_result",
          "data": {
            "text/plain": [
              "'Lesson 1: Setting Up a Python Programming Environment (Replit, \\nJupyter Notebook, Google Colaboratory, PyCharm, etc.)'"
            ],
            "application/vnd.google.colaboratory.intrinsic+json": {
              "type": "string"
            }
          },
          "metadata": {},
          "execution_count": 2
        }
      ],
      "source": [
        "\"\"\"Lesson 1: Setting Up a Python Programming Environment (Replit, \n",
        "Jupyter Notebook, Google Colaboratory, PyCharm, etc.)\"\"\""
      ]
    },
    {
      "cell_type": "code",
      "source": [
        "# Listing 1.1: Say Hello\n",
        "print(\"Hello, World!\")\n",
        "print(\"This is my first Python program!\")\n",
        "print(\"It is beautiful!\")"
      ],
      "metadata": {
        "colab": {
          "base_uri": "https://localhost:8080/"
        },
        "id": "KHM6eat7Yz5j",
        "outputId": "a0935a89-2ddd-4d89-e7b2-94eb246c7d46"
      },
      "execution_count": 4,
      "outputs": [
        {
          "output_type": "stream",
          "name": "stdout",
          "text": [
            "Hello, World!\n",
            "This is my first Python program!\n",
            "It is beautiful!\n"
          ]
        }
      ]
    },
    {
      "cell_type": "code",
      "source": [
        "# Listing 1.2: What's It Do?\n",
        "x = 2\n",
        "while (x < 100000):\n",
        "  print(x)\n",
        "  x = x**2 # exponential"
      ],
      "metadata": {
        "colab": {
          "base_uri": "https://localhost:8080/"
        },
        "id": "4cA59Cj0Y4KU",
        "outputId": "383b2e16-083e-4c27-fbdd-3ac0d5c31269"
      },
      "execution_count": 5,
      "outputs": [
        {
          "output_type": "stream",
          "name": "stdout",
          "text": [
            "2\n",
            "4\n",
            "16\n",
            "256\n",
            "65536\n"
          ]
        }
      ]
    },
    {
      "cell_type": "code",
      "source": [
        "# Listing 1.3: Counting\n",
        "print(\"Getting ready to count...\")\n",
        "for x in range(10):\n",
        "  print(\"I'm counting and at \", x) #\n",
        "print(\"Done counting!\")"
      ],
      "metadata": {
        "colab": {
          "base_uri": "https://localhost:8080/"
        },
        "id": "SnpJH-ifY-tf",
        "outputId": "731c1230-b346-4275-d833-4b13d20acf1f"
      },
      "execution_count": 6,
      "outputs": [
        {
          "output_type": "stream",
          "name": "stdout",
          "text": [
            "Getting ready to count...\n",
            "I'm counting and at  0\n",
            "I'm counting and at  1\n",
            "I'm counting and at  2\n",
            "I'm counting and at  3\n",
            "I'm counting and at  4\n",
            "I'm counting and at  5\n",
            "I'm counting and at  6\n",
            "I'm counting and at  7\n",
            "I'm counting and at  8\n",
            "I'm counting and at  9\n",
            "Done counting!\n"
          ]
        }
      ]
    },
    {
      "cell_type": "code",
      "source": [
        "# Listing 1.4: Fruity Code\n",
        "fruit = input(\"Enter your favorite fruit and press enter: \")\n",
        "print(\"Your favorite fruit is \", fruit)"
      ],
      "metadata": {
        "colab": {
          "base_uri": "https://localhost:8080/"
        },
        "id": "ZkZ6lTT4ZDSJ",
        "outputId": "33af0dcb-4dd4-4a6e-92d6-31486b7addd2"
      },
      "execution_count": 7,
      "outputs": [
        {
          "output_type": "stream",
          "name": "stdout",
          "text": [
            "Enter your favorite fruit and press enter: pear\n",
            "Your favorite fruit is  pear\n"
          ]
        }
      ]
    }
  ]
}