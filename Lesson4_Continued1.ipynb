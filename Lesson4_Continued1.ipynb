{
  "nbformat": 4,
  "nbformat_minor": 0,
  "metadata": {
    "colab": {
      "name": "Lesson4_Continued1.ipynb",
      "provenance": [],
      "collapsed_sections": [],
      "authorship_tag": "ABX9TyPRxYcBatzBee1ht8jAc0kg",
      "include_colab_link": true
    },
    "kernelspec": {
      "name": "python3",
      "display_name": "Python 3"
    },
    "language_info": {
      "name": "python"
    }
  },
  "cells": [
    {
      "cell_type": "markdown",
      "metadata": {
        "id": "view-in-github",
        "colab_type": "text"
      },
      "source": [
        "<a href=\"https://colab.research.google.com/github/AnthonyIacullo/LearningPython/blob/main/Lesson4_Continued1.ipynb\" target=\"_parent\"><img src=\"https://colab.research.google.com/assets/colab-badge.svg\" alt=\"Open In Colab\"/></a>"
      ]
    },
    {
      "cell_type": "code",
      "execution_count": null,
      "metadata": {
        "id": "eyygNbYPtmCn"
      },
      "outputs": [],
      "source": [
        "# Listing 4.13 - When were you born (with error)?\n",
        "\n",
        "# variables defined\n",
        "year_born = input(\"Enter the year you were born: \")\n",
        "current_year = input(\"Enter the current year: \")\n",
        "\n",
        "# print output\n",
        "print(type(year_born))\n",
        "print(type(current_year))\n",
        "\n",
        "\"\"\"# operation\n",
        "age = current_year - year_born\n",
        "\n",
        "# print output\n",
        "print(\"Your age is: \")\n",
        "print(age)\n",
        "\n",
        "---------------------------------------------------------------------------\n",
        "TypeError                                 Traceback (most recent call last)\n",
        "<ipython-input-1-c059add7a36e> in <module>()\n",
        "     10 \n",
        "     11 # operation\n",
        "---> 12 age = current_year - year_born\n",
        "     13 \n",
        "     14 # print output\n",
        "\n",
        "TypeError: unsupported operand type(s) for -: 'str' and 'str'\"\"\""
      ]
    },
    {
      "cell_type": "code",
      "source": [
        "# Listing 4.14 - When were you born (without error)?\n",
        "\n",
        "# variables defined\n",
        "year_born = input(\"Enter the year you were born: \")\n",
        "current_year = input(\"Enter the current year: \")\n",
        "\n",
        "# convert the str to int\n",
        "born_int = int(year_born)\n",
        "current_int = int(current_year)\n",
        "\n",
        "# operation\n",
        "age = current_int - born_int\n",
        "\n",
        "# print output\n",
        "print(\"Your age is: \")\n",
        "print(age)"
      ],
      "metadata": {
        "colab": {
          "base_uri": "https://localhost:8080/"
        },
        "id": "tENG6sWBvmbf",
        "outputId": "922be926-3901-45b8-8429-e0dc9fce9460"
      },
      "execution_count": 3,
      "outputs": [
        {
          "output_type": "stream",
          "name": "stdout",
          "text": [
            "Enter the year you were born: 1997\n",
            "Enter the current year: 2022\n",
            "Your age is: \n",
            "25\n"
          ]
        }
      ]
    },
    {
      "cell_type": "code",
      "source": [
        "# Listing 4.15 - Calculating a debt ratio\n",
        "\n",
        "# variables defined\n",
        "monthlyDebt = input(\"Enter the monthly debt payments: \") ;\n",
        "grossIncome = input(\"Enter the gross monthly income: \") ; \n",
        "\n",
        "# convert the str to int\n",
        "debtInt = int(monthlyDebt) ;\n",
        "incomeInt= int(grossIncome) ;\n",
        "\n",
        "# operation\n",
        "diRratio = debtInt / incomeInt ;\n",
        "\n",
        "# print output\n",
        "print(diRratio) ;"
      ],
      "metadata": {
        "colab": {
          "base_uri": "https://localhost:8080/"
        },
        "id": "Wrc5wwKvwZbf",
        "outputId": "b58ffe0f-85cf-4c24-fc98-5c08c82bc866"
      },
      "execution_count": 5,
      "outputs": [
        {
          "output_type": "stream",
          "name": "stdout",
          "text": [
            "Enter the monthly debt payments: 2000\n",
            "Enter the gross monthly income: 8000\n",
            "0.25\n"
          ]
        }
      ]
    },
    {
      "cell_type": "code",
      "source": [
        "# Listing 4.16 - Calculating the simple interest\n",
        "\n",
        "# vars def\n",
        "acctBal = input(\"Please enter an account balance: \") ;\n",
        "intRate = input(\"Please enter an interest rate: \") ;\n",
        "time = input(\"Please enter a period of time in years: \") ;\n",
        "\n",
        "# str to int conversion\n",
        "acctInt = int(acctBal) ;\n",
        "rateInt = float(intRate) ;\n",
        "timeInt = int(time) ;\n",
        "\n",
        "# operation\n",
        "result = acctInt * rateInt * timeInt ;\n",
        "acctBal = result + acctInt ;\n",
        "\n",
        "# print output\n",
        "print(acctBal) ;"
      ],
      "metadata": {
        "colab": {
          "base_uri": "https://localhost:8080/"
        },
        "id": "NhqrHHNAyAcp",
        "outputId": "bcbb76f8-d97c-43ba-aade-f9f0e129cb66"
      },
      "execution_count": 6,
      "outputs": [
        {
          "output_type": "stream",
          "name": "stdout",
          "text": [
            "Please enter an account balance: 1000\n",
            "Please enter an interest rate: 0.05\n",
            "Please enter a period of time in years: 10\n",
            "1500.0\n"
          ]
        }
      ]
    },
    {
      "cell_type": "code",
      "source": [
        "# Listing 4.17 - Creating Boolean variables\n",
        "\n",
        "# vars def\n",
        "bool1 = True\n",
        "bool2 = False\n",
        "\n",
        "# print output\n",
        "print(bool1) ; print(type(bool1)) ;\n",
        "print(bool2) ; print(type(bool2)) ;"
      ],
      "metadata": {
        "colab": {
          "base_uri": "https://localhost:8080/"
        },
        "id": "MGGU9UpIzpgw",
        "outputId": "c5109b70-050c-4b8e-ba16-1af84e1f6117"
      },
      "execution_count": 7,
      "outputs": [
        {
          "output_type": "stream",
          "name": "stdout",
          "text": [
            "True\n",
            "<class 'bool'>\n",
            "False\n",
            "<class 'bool'>\n"
          ]
        }
      ]
    },
    {
      "cell_type": "code",
      "source": [
        "# bool will return true unless val passed to it is a val of 0\n",
        "var1 = bool(\"Hello\")\n",
        "print(var1)\n",
        "\n",
        "# bool will return false if val passed is 0, False, None, or empty object\n",
        "var2 = bool(0)\n",
        "print(var2)"
      ],
      "metadata": {
        "colab": {
          "base_uri": "https://localhost:8080/"
        },
        "id": "wv3tb49Y0OHA",
        "outputId": "e4c5caee-67fd-4524-ffc1-aeb8c9d875d2"
      },
      "execution_count": 12,
      "outputs": [
        {
          "output_type": "stream",
          "name": "stdout",
          "text": [
            "True\n",
            "False\n"
          ]
        }
      ]
    },
    {
      "cell_type": "code",
      "source": [
        "# Listing 4.18 - Using bool()\n",
        "\n",
        "# var def\n",
        "a = 0 \n",
        "b = 1\n",
        "\n",
        "# print output\n",
        "print(a) ; print(bool(a)) ;\n",
        "print(b) ; print(bool(b)) ;\n",
        "print(bool(\"Hello\")) ;"
      ],
      "metadata": {
        "colab": {
          "base_uri": "https://localhost:8080/"
        },
        "id": "gpIx_4hQ0_w3",
        "outputId": "33b54474-1cee-489a-e206-cc1a537a47c7"
      },
      "execution_count": 13,
      "outputs": [
        {
          "output_type": "stream",
          "name": "stdout",
          "text": [
            "0\n",
            "False\n",
            "1\n",
            "True\n",
            "True\n"
          ]
        }
      ]
    },
    {
      "cell_type": "code",
      "source": [
        "# Listing 4.19 - Using bool() some more\n",
        "\n",
        "test = 0 \n",
        "print(test, ':', bool(test))\n",
        "\n",
        "test = [1]\n",
        "print(test, ':', bool(test))\n",
        "\n",
        "test = []\n",
        "print(test, ':', bool(test))\n",
        "\n",
        "test = 1.1\n",
        "print(test, ':', bool(test))\n",
        "\n",
        "test = \"1\"\n",
        "print(test, ':', bool(test))\n",
        "\n",
        "test = False\n",
        "print(test, ':', bool(test))\n",
        "\n",
        "test = True\n",
        "print(test, ':', bool(test))\n",
        "\n",
        "test = 'Easy string'\n",
        "print(test, ':', bool(test))\n",
        "\n",
        "test = \"\"\n",
        "print(test, ':', bool(test))\n",
        "\n",
        "test = ''\n",
        "print(test, ':', bool(test))"
      ],
      "metadata": {
        "colab": {
          "base_uri": "https://localhost:8080/"
        },
        "id": "bdBSx_Af11Zj",
        "outputId": "c37d3d42-0d33-4944-c719-32af0b107b1c"
      },
      "execution_count": 15,
      "outputs": [
        {
          "output_type": "stream",
          "name": "stdout",
          "text": [
            "0 : False\n",
            "[1] : True\n",
            "[] : False\n",
            "1.1 : True\n",
            "1 : True\n",
            "False : False\n",
            "True : True\n",
            "Easy string : True\n",
            " : False\n",
            " : False\n"
          ]
        }
      ]
    }
  ]
}