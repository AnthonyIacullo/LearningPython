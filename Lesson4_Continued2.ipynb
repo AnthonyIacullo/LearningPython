{
  "nbformat": 4,
  "nbformat_minor": 0,
  "metadata": {
    "colab": {
      "name": "Lesson4_Continued2.ipynb",
      "provenance": [],
      "collapsed_sections": [],
      "authorship_tag": "ABX9TyOomJ8hX2a7xn7rBLVAU26C",
      "include_colab_link": true
    },
    "kernelspec": {
      "name": "python3",
      "display_name": "Python 3"
    },
    "language_info": {
      "name": "python"
    }
  },
  "cells": [
    {
      "cell_type": "markdown",
      "metadata": {
        "id": "view-in-github",
        "colab_type": "text"
      },
      "source": [
        "<a href=\"https://colab.research.google.com/github/AnthonyIacullo/LearningPython/blob/main/Lesson4_Continued2.ipynb\" target=\"_parent\"><img src=\"https://colab.research.google.com/assets/colab-badge.svg\" alt=\"Open In Colab\"/></a>"
      ]
    },
    {
      "cell_type": "code",
      "execution_count": 1,
      "metadata": {
        "colab": {
          "base_uri": "https://localhost:8080/"
        },
        "id": "5uuSYGC76bP3",
        "outputId": "8f36adcd-93b6-4531-badb-58a8a424116f"
      },
      "outputs": [
        {
          "output_type": "stream",
          "name": "stdout",
          "text": [
            "True\n",
            "False\n",
            "False\n",
            "True\n",
            "False\n"
          ]
        }
      ],
      "source": [
        "# 4.20 - Using the logical operators\n",
        "\n",
        "# var def\n",
        "a = True ; b = False ; c = not a ; d = not b ; e = a and b ;\n",
        "\n",
        "# print output\n",
        "print(a) ; print(b) ; print(c) ; print(d) ; print(e) ;"
      ]
    },
    {
      "cell_type": "code",
      "source": [
        "# Listing 4.21 - Is it True or False?\n",
        "\n",
        "a = input(\"What is the output of the following operation (True and True)? \")\n",
        "aTest = True and True\n",
        "print(\"True and True = \", aTest)\n",
        "\n",
        "b = input(\"What is the output of the following operation (False or False)? \")\n",
        "bTest = False or False\n",
        "print(\"False or False = \", bTest)\n",
        "\n",
        "c = input(\"What is the output of the following operation (False and False)? \")\n",
        "cTest = False and False\n",
        "print(\"False and False = \", cTest)\n",
        "\n",
        "d = input(\"What is the output of the following operation (not False)? \")\n",
        "dTest = not False\n",
        "print(\"not False = \", dTest)\n",
        "\n",
        "e = input(\"What is the output of the following operation ( (not False) or \\\n",
        "False)? \")\n",
        "eTest = ( (not False) or False )\n",
        "print(\"(not False) or False = \", eTest)\n",
        "\n",
        "f = input(\"What is the output of the following operation ( (not True) and (not\\\n",
        " False))? \")\n",
        "fTest = False or False\n",
        "print(\"(not True) and (not False) = \", fTest)"
      ],
      "metadata": {
        "colab": {
          "base_uri": "https://localhost:8080/"
        },
        "id": "EpLytRUe_PTV",
        "outputId": "619ec290-5594-49f9-b479-8f125cef22ad"
      },
      "execution_count": 2,
      "outputs": [
        {
          "output_type": "stream",
          "name": "stdout",
          "text": [
            "What is the output of the following operation (True and True)? True\n",
            "True and True =  True\n",
            "What is the output of the following operation (False or False)? False\n",
            "False or False =  False\n",
            "What is the output of the following operation (False and False)? False\n",
            "False and False =  False\n",
            "What is the output of the following operation (not False)? True\n",
            "not False =  True\n",
            "What is the output of the following operation ( (not False) or False)? True\n",
            "(not False) or False =  True\n",
            "What is the output of the following operation ( (not True) and (not False))? False\n",
            "(not True) and (not False) =  False\n"
          ]
        }
      ]
    },
    {
      "cell_type": "code",
      "source": [
        "# Listing 4.22 - Querying a banking customer\n",
        "\n",
        "# var def\n",
        "savings = input(\"Do you have a savings account?: \")\n",
        "checking = input(\"Do you have a checking account?: \")\n",
        "opensave = input(\"Would you like to open a savings account?: \")\n",
        "opencheck = input(\"Would you like to open a checking account?: \")\n",
        "\n",
        "# print output\n",
        "print(savings) ; print(type(savings)) ;\n",
        "print(checking) ; print(type(checking)) ;\n",
        "print(opensave) ; print(type(opensave)) ;\n",
        "print(opencheck) ; print(type(opencheck)) ;\n",
        "\n",
        "\"\"\"Consider how this can be altered into boolean logic\n",
        "\"\"\""
      ],
      "metadata": {
        "colab": {
          "base_uri": "https://localhost:8080/",
          "height": 244
        },
        "id": "0tdCbeyHBszH",
        "outputId": "22ff2f0f-2441-4cf1-dfca-ba0dc23149c0"
      },
      "execution_count": 4,
      "outputs": [
        {
          "output_type": "stream",
          "name": "stdout",
          "text": [
            "Do you have a savings account?: Yes\n",
            "Do you have a checking account?: No\n",
            "Would you like to open a savings account?: Yes\n",
            "Would you like to open a checking account?: No\n",
            "Yes\n",
            "<class 'str'>\n",
            "No\n",
            "<class 'str'>\n",
            "Yes\n",
            "<class 'str'>\n",
            "No\n",
            "<class 'str'>\n"
          ]
        },
        {
          "output_type": "execute_result",
          "data": {
            "text/plain": [
              "'Consider how this can be altered into boolean logic'"
            ],
            "application/vnd.google.colaboratory.intrinsic+json": {
              "type": "string"
            }
          },
          "metadata": {},
          "execution_count": 4
        }
      ]
    },
    {
      "cell_type": "code",
      "source": [
        "# Listing 4.23 - Using the comparison operators\n",
        "\n",
        "# var def\n",
        "a = 6 ; b = 5 ;\n",
        "\n",
        "# print output\n",
        "print(\"a > b = \", a > b) ; # greater than\n",
        "print(\"a < b = \", a < b) ; # less than\n",
        "print(\"a >= b = \", a >= b) ; # greater than or equal\n",
        "print(\"a <= b = \", a <= b) ; # less than or equal\n",
        "print(\"a == b is \", a == b) ; # test for equality\n",
        "print(\" a is b results in \", a is b) ; # test for equality\n",
        "print(\"a != b is \", a != b) ; # test for inequality\n",
        "print(\"a is not b results in \", a is not b) ; # check for inequality"
      ],
      "metadata": {
        "colab": {
          "base_uri": "https://localhost:8080/"
        },
        "id": "rUKowyiKDe_5",
        "outputId": "799ddd77-bd3f-49ef-f80b-9a82b412d40a"
      },
      "execution_count": 7,
      "outputs": [
        {
          "output_type": "stream",
          "name": "stdout",
          "text": [
            "a > b =  True\n",
            "a < b =  False\n",
            "a >= b =  True\n",
            "a <= b =  False\n",
            "a == b is  False\n",
            " a is b results in  False\n",
            "a != b is  True\n",
            "a is not b results in  True\n"
          ]
        }
      ]
    }
  ]
}