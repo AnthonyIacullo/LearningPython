{
  "nbformat": 4,
  "nbformat_minor": 0,
  "metadata": {
    "colab": {
      "name": "Lesson3_Continued.ipynb",
      "provenance": [],
      "authorship_tag": "ABX9TyP6PN0LSKSoobFe2UwWzFRY",
      "include_colab_link": true
    },
    "kernelspec": {
      "name": "python3",
      "display_name": "Python 3"
    },
    "language_info": {
      "name": "python"
    }
  },
  "cells": [
    {
      "cell_type": "markdown",
      "metadata": {
        "id": "view-in-github",
        "colab_type": "text"
      },
      "source": [
        "<a href=\"https://colab.research.google.com/github/AnthonyIacullo/LearningPython/blob/main/Lesson3_Continued.ipynb\" target=\"_parent\"><img src=\"https://colab.research.google.com/assets/colab-badge.svg\" alt=\"Open In Colab\"/></a>"
      ]
    },
    {
      "cell_type": "code",
      "execution_count": 2,
      "metadata": {
        "colab": {
          "base_uri": "https://localhost:8080/"
        },
        "id": "Adee7j4Brgfm",
        "outputId": "d61878e0-268a-4dbe-bede-b4aa5ccda0fb"
      },
      "outputs": [
        {
          "output_type": "stream",
          "name": "stdout",
          "text": [
            "Hello, welcome to the banking portal.\n",
            "In this portal, you can handle all your banking needs.\n",
            "Please enter a selection from the following menu\n",
            "Type Login to log in\n",
            "Type Quit to quit\n",
            "Enter your selection now: Login\n",
            "Login\n"
          ]
        }
      ],
      "source": [
        "# Listing 3.12 - Capturing the menu selection\n",
        "\n",
        "print(\"Hello, welcome to the banking portal.\") \n",
        "print(\"In this portal, you can handle all your banking needs.\") \n",
        "print(\"Please enter a selection from the following menu\") \n",
        "print(\"Type Login to log in\") \n",
        "print(\"Type Quit to quit\") \n",
        "selection = input(\"Enter your selection now: \") # input captured in variable \n",
        "print(selection)"
      ]
    },
    {
      "cell_type": "code",
      "source": [
        "# Listing 3.13 - Declaring variables\n",
        "\n",
        "# creating/defining variables of various different data types\n",
        "int_var = 0 # variable stores an integer\n",
        "str_var = \"Hello World\" # variable stores a string\n",
        "float_var = 0.06 # variable stores a float or fractional number\n",
        "bool_var = False # variable stores a boolean value T/F\n",
        "list_str_var = [\"Maya\", \"Marley\"] # variable stores a list of strings\n",
        "list_int_var = [45, 7, 25, 7, 2, 6, 4, 11] # variable stores a list of integers"
      ],
      "metadata": {
        "id": "YZdjzStRsuY4"
      },
      "execution_count": 3,
      "outputs": []
    },
    {
      "cell_type": "code",
      "source": [
        "# printing variables\n",
        "\n",
        "x = \"fun\"\n",
        "print(\"Python is \" + x)"
      ],
      "metadata": {
        "colab": {
          "base_uri": "https://localhost:8080/"
        },
        "id": "RiS57FisuZ7E",
        "outputId": "febd0728-a1ef-46bc-920b-f584e5eebd64"
      },
      "execution_count": 6,
      "outputs": [
        {
          "output_type": "stream",
          "name": "stdout",
          "text": [
            "Python is fun\n"
          ]
        }
      ]
    },
    {
      "cell_type": "code",
      "source": [
        "# Listing 3.14 - Printing different variables from Listing 3.13\n",
        "\n",
        "print(int_var)\n",
        "print(str_var)\n",
        "print(float_var)\n",
        "print(bool_var)\n",
        "print(list_str_var)\n",
        "print(list_int_var)"
      ],
      "metadata": {
        "colab": {
          "base_uri": "https://localhost:8080/"
        },
        "id": "v0dNWE_dvDe9",
        "outputId": "349a6dbf-a129-47fe-c3f9-4edede7ef7d4"
      },
      "execution_count": 7,
      "outputs": [
        {
          "output_type": "stream",
          "name": "stdout",
          "text": [
            "0\n",
            "Hello World\n",
            "0.06\n",
            "False\n",
            "['Maya', 'Marley']\n",
            "[45, 7, 25, 7, 2, 6, 4, 11]\n"
          ]
        }
      ]
    },
    {
      "cell_type": "code",
      "source": [
        "# Listing 3.15 - Banking menu again but now with variables and more formatting\n",
        "\n",
        "# variables defined\n",
        "pversion = 1.1 # version of portal\n",
        "bank_name = \"Digital Bank\" # name of the bank\n",
        "isLogged = False \n",
        "\n",
        "# output\n",
        "print(\"Hello, welcome to the banking portal.\") \n",
        "print(\"In this portal, you can handle all your banking needs.\") \n",
        "print(\"Please enter a selection from the following menu\") \n",
        "print(\"Type Login to log in\") \n",
        "print(\"Type Quit to quit\") \n",
        "\n",
        "# input\n",
        "selection = input(\"Enter your selection now: \") # input captured in variable \n",
        "print(\"You have selected\")\n",
        "\n",
        "# output\n",
        "print(selection)"
      ],
      "metadata": {
        "colab": {
          "base_uri": "https://localhost:8080/"
        },
        "id": "gPgj2KmNvneH",
        "outputId": "eafa5f02-a65b-4a5e-8321-e985d57423af"
      },
      "execution_count": 10,
      "outputs": [
        {
          "output_type": "stream",
          "name": "stdout",
          "text": [
            "Hello, welcome to the banking portal.\n",
            "In this portal, you can handle all your banking needs.\n",
            "Please enter a selection from the following menu\n",
            "Type Login to log in\n",
            "Type Quit to quit\n",
            "Enter your selection now: Login\n",
            "You have selected\n",
            "Login\n"
          ]
        }
      ]
    },
    {
      "cell_type": "code",
      "source": [
        "# Listing 3.16 - Declaring variables\n",
        "\n",
        "age = 33 # correct\n",
        "_age = 33 # correct\n",
        "__age = 33 # correct\n",
        "\"\"\" will cause a SyntaxError\n",
        "5_age = 33 # incorrect\n",
        "-age = 33 # incorrect \"\"\""
      ],
      "metadata": {
        "colab": {
          "base_uri": "https://localhost:8080/",
          "height": 36
        },
        "id": "LqWd4mfYwitK",
        "outputId": "61c29b2d-2b93-4b29-b0c4-65d7a9df87ac"
      },
      "execution_count": 12,
      "outputs": [
        {
          "output_type": "execute_result",
          "data": {
            "text/plain": [
              "' will cause a SyntaxError\\n5_age = 33 # incorrect\\n-age = 33 # incorrect '"
            ],
            "application/vnd.google.colaboratory.intrinsic+json": {
              "type": "string"
            }
          },
          "metadata": {},
          "execution_count": 12
        }
      ]
    },
    {
      "cell_type": "code",
      "source": [
        "# Exercise 1: Displaying Text by fixing code\n",
        "\n",
        "print(\"Hello, welcome to the banking portal.\") ; print(\"In this portal, you \\\n",
        "can handle all of your banking needs.\")\n",
        "print(\"Please enter a selection from the following menu.\") \n",
        "print(\"Type Login to log in\")\n",
        "print(\"Type Quit to quit\")"
      ],
      "metadata": {
        "colab": {
          "base_uri": "https://localhost:8080/"
        },
        "id": "UvjCzWsYxlTp",
        "outputId": "916a2005-2385-483a-feb7-d7aaf4ed0e4b"
      },
      "execution_count": 14,
      "outputs": [
        {
          "output_type": "stream",
          "name": "stdout",
          "text": [
            "Hello, welcome to the banking portal.\n",
            "In this portal, you can handle all of your banking needs.\n",
            "Please enter a selection from the following menu.\n",
            "Type Login to log in\n",
            "Type Quit to quit\n"
          ]
        }
      ]
    },
    {
      "cell_type": "code",
      "source": [
        "# Exercise 2: Follow the comments\n",
        "\n",
        "# Add a new line of code that displays the text in quotation marks\n",
        "# to an output block without repeating the text in quotation marks.\n",
        "\n",
        "print(\"\\\"I love Python!\\\"\")\n",
        "\n",
        "# your code below this line\n",
        "# Display only the text Python is fun! to an output block\n",
        "# without deleting any of the existing code\n",
        "\n",
        "print(\"Python is fun!\")\n",
        "# print(\"Python is also easy!\")"
      ],
      "metadata": {
        "colab": {
          "base_uri": "https://localhost:8080/"
        },
        "id": "epClG1v3zoGD",
        "outputId": "8959ea5b-a343-4971-9063-ee4bf7e7eaf2"
      },
      "execution_count": 17,
      "outputs": [
        {
          "output_type": "stream",
          "name": "stdout",
          "text": [
            "\"I love Python!\"\n",
            "Python is fun!\n"
          ]
        }
      ]
    },
    {
      "cell_type": "code",
      "source": [
        "# Exercise 3: Fixing the code\n",
        "\n",
        "# display the text in quotation marks to an output block\n",
        "print(\"Python is fun!\")\n",
        "\n",
        "# Display the text in quotation marks to an output block \n",
        "# without moving any of the existing code to a different line\n",
        "print(\"Python is fun!\") ; print(\"Python is also easy!\")\n",
        "\n",
        "# Display the text in quotation marks to an output block \n",
        "# without moving any of the existing code to a different line\n",
        "print(\n",
        "\"Python is fun!\")\n",
        "\n",
        "# Change each variable name to an appropriate name for Python.\n",
        "# Do not use the same variable name more than one time.\n",
        "firstname = \"Rebecca\" # first name\n",
        "lastname = \"Roberts\" # last \n",
        "\n",
        "# After changing the variable names, update the code below\n",
        "# to print out each name.\n",
        "\n",
        "print(\"First name is:\", firstname)\n",
        "print(\"Last name is:\", lastname)"
      ],
      "metadata": {
        "colab": {
          "base_uri": "https://localhost:8080/"
        },
        "id": "orL55qvo1dO-",
        "outputId": "a9963230-1097-4d19-e629-13d58fdeee8d"
      },
      "execution_count": 26,
      "outputs": [
        {
          "output_type": "stream",
          "name": "stdout",
          "text": [
            "Python is fun!\n",
            "Python is fun!\n",
            "Python is also easy!\n",
            "Python is fun!\n",
            "First name is: Rebecca\n",
            "Last name is: Roberts\n"
          ]
        }
      ]
    },
    {
      "cell_type": "code",
      "source": [
        "# Exercise 4: Broken variables\n",
        "\n",
        "name = \"Alex\"\n",
        "age = 35\n",
        "states_list = [\"Kentucky\", \"New Jersey\"]\n",
        "\n",
        "print(name) ; print(age) ; print(states_list)"
      ],
      "metadata": {
        "colab": {
          "base_uri": "https://localhost:8080/"
        },
        "id": "7W6m8jPh4Fvv",
        "outputId": "78010174-a190-43dd-8e74-41168f4316c4"
      },
      "execution_count": 27,
      "outputs": [
        {
          "output_type": "stream",
          "name": "stdout",
          "text": [
            "Alex\n",
            "35\n",
            "['Kentucky', 'New Jersey']\n"
          ]
        }
      ]
    },
    {
      "cell_type": "code",
      "source": [
        "# Exercise 5: Broken names\n",
        "\n",
        "first_value = 5\n",
        "message = \"Help\"\n",
        "print(first_value)\n",
        "print(message)"
      ],
      "metadata": {
        "colab": {
          "base_uri": "https://localhost:8080/"
        },
        "id": "jv_I-ydN4ZFC",
        "outputId": "055a737a-1fdb-4d40-ce11-a8eb99af6ceb"
      },
      "execution_count": 28,
      "outputs": [
        {
          "output_type": "stream",
          "name": "stdout",
          "text": [
            "5\n",
            "Help\n"
          ]
        }
      ]
    },
    {
      "cell_type": "code",
      "source": [
        "# Exercise 6: Where are you?\n",
        "\n",
        "# variables to capture input\n",
        "birth_state = input(\"What state were you born in? \")\n",
        "current_state = input(\"What state do you live in now? \")\n",
        "\n",
        "# output user input from variables\n",
        "print(\"Input values:\")\n",
        "print(birth_state)\n",
        "print(current_state)"
      ],
      "metadata": {
        "colab": {
          "base_uri": "https://localhost:8080/"
        },
        "id": "rzE25RIw44om",
        "outputId": "8ac4dcc8-5b08-4921-f992-833b14871c05"
      },
      "execution_count": 31,
      "outputs": [
        {
          "output_type": "stream",
          "name": "stdout",
          "text": [
            "What state were you born in? Illinois\n",
            "What state do you live in now? New Hampshire\n",
            "Input values:\n",
            "Illinois\n",
            "New Hampshire\n"
          ]
        }
      ]
    }
  ]
}