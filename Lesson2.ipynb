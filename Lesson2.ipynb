{
  "nbformat": 4,
  "nbformat_minor": 0,
  "metadata": {
    "colab": {
      "name": "Lesson2.ipynb",
      "provenance": [],
      "authorship_tag": "ABX9TyOQK9ZN1dC8twV+YViCd4sW",
      "include_colab_link": true
    },
    "kernelspec": {
      "name": "python3",
      "display_name": "Python 3"
    },
    "language_info": {
      "name": "python"
    }
  },
  "cells": [
    {
      "cell_type": "markdown",
      "metadata": {
        "id": "view-in-github",
        "colab_type": "text"
      },
      "source": [
        "<a href=\"https://colab.research.google.com/github/AnthonyIacullo/LearningPython/blob/main/Lesson2.ipynb\" target=\"_parent\"><img src=\"https://colab.research.google.com/assets/colab-badge.svg\" alt=\"Open In Colab\"/></a>"
      ]
    },
    {
      "cell_type": "code",
      "execution_count": 29,
      "metadata": {
        "colab": {
          "base_uri": "https://localhost:8080/",
          "height": 36
        },
        "id": "E3g0hxFgaRRU",
        "outputId": "ddde119d-5588-430a-aac8-99b297219d17"
      },
      "outputs": [
        {
          "output_type": "execute_result",
          "data": {
            "text/plain": [
              "'Lesson 2: Understanding programming basics'"
            ],
            "application/vnd.google.colaboratory.intrinsic+json": {
              "type": "string"
            }
          },
          "metadata": {},
          "execution_count": 29
        }
      ],
      "source": [
        "\"\"\"Lesson 2: Understanding programming basics\"\"\""
      ]
    },
    {
      "cell_type": "code",
      "source": [
        "# values of a standard addition operation involve three values\n",
        "value1 = 1\n",
        "value2 = 2\n",
        "value3 = value1 + value2\n",
        "print(\"1 + 2 =\", value3)"
      ],
      "metadata": {
        "colab": {
          "base_uri": "https://localhost:8080/"
        },
        "id": "PPAaHw-Dafma",
        "outputId": "9c52695a-433e-42d7-a002-bc3e08473843"
      },
      "execution_count": 30,
      "outputs": [
        {
          "output_type": "stream",
          "name": "stdout",
          "text": [
            "1 + 2 = 3\n"
          ]
        }
      ]
    },
    {
      "cell_type": "code",
      "source": [
        "# if statements may only include two values that are compared to each other\n",
        "value1 = 1\n",
        "value2 = 5\n",
        "if value1 < value2:\n",
        "  print(value1, \"<\", value2)"
      ],
      "metadata": {
        "colab": {
          "base_uri": "https://localhost:8080/"
        },
        "id": "1WabVGnjbGy_",
        "outputId": "951d32f6-d692-40a3-ee3a-ad8a154c0339"
      },
      "execution_count": 31,
      "outputs": [
        {
          "output_type": "stream",
          "name": "stdout",
          "text": [
            "1 < 5\n"
          ]
        }
      ]
    },
    {
      "cell_type": "code",
      "source": [
        "# text data type\n",
        "string_of_characters = \"this is text\"\n",
        "print(string_of_characters)\n",
        "print(type(string_of_characters))"
      ],
      "metadata": {
        "colab": {
          "base_uri": "https://localhost:8080/"
        },
        "id": "pncum5J2cMh3",
        "outputId": "846c3f19-4a7c-46e6-f8fb-5bd1ad9a03d5"
      },
      "execution_count": 32,
      "outputs": [
        {
          "output_type": "stream",
          "name": "stdout",
          "text": [
            "this is text\n",
            "<class 'str'>\n"
          ]
        }
      ]
    },
    {
      "cell_type": "code",
      "source": [
        "# number data type (int, doubles, floats)\n",
        "a = 3\n",
        "b = 4.564\n",
        "\n",
        "print(a, \"is\", type(a))\n",
        "print(b, \"is\", type(b))"
      ],
      "metadata": {
        "colab": {
          "base_uri": "https://localhost:8080/"
        },
        "id": "dPP0LAIEdRA1",
        "outputId": "226248e5-0e32-4834-bb68-d0031fb5b8cb"
      },
      "execution_count": 33,
      "outputs": [
        {
          "output_type": "stream",
          "name": "stdout",
          "text": [
            "3 is <class 'int'>\n",
            "4.564 is <class 'float'>\n"
          ]
        }
      ]
    },
    {
      "cell_type": "code",
      "source": [
        "# true/false data type aka boolean values\n",
        "a = 2\n",
        "b = 3\n",
        "result1 = a > b\n",
        "result2 = a < b\n",
        "print(result1, \"is\", type(result1))\n",
        "print(result2, \"is\", type(result2))"
      ],
      "metadata": {
        "colab": {
          "base_uri": "https://localhost:8080/"
        },
        "id": "wmAxQAR_diqR",
        "outputId": "20bae39e-2d1b-4d95-b9ce-524de34e67fa"
      },
      "execution_count": 34,
      "outputs": [
        {
          "output_type": "stream",
          "name": "stdout",
          "text": [
            "False is <class 'bool'>\n",
            "True is <class 'bool'>\n"
          ]
        }
      ]
    },
    {
      "cell_type": "code",
      "source": [
        "# date/time data type\n",
        "from datetime import date\n",
        "\n",
        "today = date.today()\n",
        "print(\"Today's date is:\", today)\n",
        "print(type(today))"
      ],
      "metadata": {
        "colab": {
          "base_uri": "https://localhost:8080/"
        },
        "id": "6-eN-gxffqzV",
        "outputId": "94430efa-d6aa-4590-aa47-395d33cc1217"
      },
      "execution_count": 35,
      "outputs": [
        {
          "output_type": "stream",
          "name": "stdout",
          "text": [
            "Today's date is: 2022-04-23\n",
            "<class 'datetime.date'>\n"
          ]
        }
      ]
    },
    {
      "cell_type": "code",
      "source": [
        "# data collections (lists, sets, arrays)\n",
        "list_of_items = [\"Kate\", \"124 W Main Street Boston\", 24, 4.0]\n",
        "print(list_of_items)\n",
        "print(type(list_of_items))"
      ],
      "metadata": {
        "colab": {
          "base_uri": "https://localhost:8080/"
        },
        "id": "W_9piBezgraw",
        "outputId": "ab6045e4-5f17-4623-9061-52569c840cb8"
      },
      "execution_count": 36,
      "outputs": [
        {
          "output_type": "stream",
          "name": "stdout",
          "text": [
            "['Kate', '124 W Main Street Boston', 24, 4.0]\n",
            "<class 'list'>\n"
          ]
        }
      ]
    },
    {
      "cell_type": "code",
      "source": [
        "# calculating amount of carpet using abstract values for reusability\n",
        "\n",
        "# variables\n",
        "user_input_length = float(input(\"Enter length of the floor in feet: \"))\n",
        "user_input_width = float(input(\"Enter width of the floor in feet: \"))\n",
        "user_input_price = float(input(\"Enter price of selected carpet: \"))\n",
        "\n",
        "length = user_input_length\n",
        "width = user_input_width\n",
        "price = user_input_price\n",
        "\n",
        "# calculation\n",
        "total_footage = length * width\n",
        "total_cost = total_footage * price\n",
        "\n",
        "# output\n",
        "print(\"Cost of carpeting:\", total_cost)"
      ],
      "metadata": {
        "colab": {
          "base_uri": "https://localhost:8080/"
        },
        "id": "RpPbJtRVmmN1",
        "outputId": "962b3bda-0803-41c4-8e8b-d08bca62ef84"
      },
      "execution_count": 37,
      "outputs": [
        {
          "output_type": "stream",
          "name": "stdout",
          "text": [
            "Enter length of the floor in feet: 25\n",
            "Enter width of the floor in feet: 25\n",
            "Enter price of selected carpet: 2\n",
            "Cost of carpeting: 1250.0\n"
          ]
        }
      ]
    },
    {
      "cell_type": "code",
      "source": [
        "# example of dynamic typing\n",
        "\n",
        "x = 75 # data type integer\n",
        "print(type(x))\n",
        "\n",
        "x = 6.458 # data type float\n",
        "print(type(x))\n",
        "\n",
        "x = \"Hello, World!\" # data type string\n",
        "print(type(x))\n",
        "\n",
        "print(\"The final value of x is:\", x, type(x))"
      ],
      "metadata": {
        "colab": {
          "base_uri": "https://localhost:8080/"
        },
        "id": "Omz10JjktuM_",
        "outputId": "1b9db818-7d31-4d98-8fbf-ab603bee7a00"
      },
      "execution_count": 38,
      "outputs": [
        {
          "output_type": "stream",
          "name": "stdout",
          "text": [
            "<class 'int'>\n",
            "<class 'float'>\n",
            "<class 'str'>\n",
            "The final value of x is: Hello, World! <class 'str'>\n"
          ]
        }
      ]
    },
    {
      "cell_type": "code",
      "source": [
        "# example of static or strongly typed \n",
        "\n",
        "\"\"\"\n",
        "\n",
        "-declaring variables in java since python is dynamically typed\n",
        "\n",
        "int quantity = 75 ;\n",
        "\n",
        "float price = 6.458 ; \n",
        "\n",
        "String greeting = \"Hello, World!\" ;\n",
        "\n",
        "-variables have to have different names\n",
        "\n",
        "\"\"\""
      ],
      "metadata": {
        "colab": {
          "base_uri": "https://localhost:8080/",
          "height": 53
        },
        "id": "h4J9ZAbUvZqm",
        "outputId": "88ac4ce8-76f9-4940-8370-8f30ab9c7e33"
      },
      "execution_count": 39,
      "outputs": [
        {
          "output_type": "execute_result",
          "data": {
            "text/plain": [
              "'\\n\\n-declaring variables in java since python is dynamically typed\\n\\nint quantity = 75 ;\\n\\nfloat price = 6.458 ; \\n\\nString greeting = \"Hello, World!\" ;\\n\\n-variables have to have different names\\n\\n'"
            ],
            "application/vnd.google.colaboratory.intrinsic+json": {
              "type": "string"
            }
          },
          "metadata": {},
          "execution_count": 39
        }
      ]
    },
    {
      "cell_type": "code",
      "source": [
        "# daily tasks - creating basic incomplete algorithms\n",
        "\n",
        "\"\"\"\n",
        "\n",
        "-tying shoes: pick out shoes with laces, make sure laces are untied, put shoes \n",
        "on, use hands/fingers to tie shoes \n",
        "\n",
        "-loading dishwasher: check for dirty dishes around kitchen, if a dish is dirty \n",
        "then place in dishwasher, if dishwasher isn't open then open it and place dirty\n",
        "dish into the dishwasher\n",
        "\n",
        "-making a bed: wake up, get out of bed, pull sheets to head of bed one after \n",
        "the other, place pillows at head of bed\n",
        "\n",
        "-create pb & j: get ingredients (two slices of bread, a jar of pb, and a jar of\n",
        "jelly from proper locations), get two knives from utensil drawer, get plate \n",
        "from cabinent, make sandwich\n",
        "\n",
        "\"\"\""
      ],
      "metadata": {
        "colab": {
          "base_uri": "https://localhost:8080/",
          "height": 105
        },
        "id": "rqBeoc-bx-Hp",
        "outputId": "4dff711f-2de9-4737-82bc-8ab8d6d1ea07"
      },
      "execution_count": 40,
      "outputs": [
        {
          "output_type": "execute_result",
          "data": {
            "text/plain": [
              "\"\\n\\n-tying shoes: pick out shoes with laces, make sure laces are untied, put shoes \\non, use hands/fingers to tie shoes \\n\\n-loading dishwasher: check for dirty dishes around kitchen, if a dish is dirty \\nthen place in dishwasher, if dishwasher isn't open then open it and place dirty\\ndish into the dishwasher\\n\\n-making a bed: wake up, get out of bed, pull sheets to head of bed one after \\nthe other, place pillows at head of bed\\n\\n-create pb & j: get ingredients (two slices of bread, a jar of pb, and a jar of\\njelly from proper locations), get two knives from utensil drawer, get plate \\nfrom cabinent, make sandwich\\n\\n\""
            ],
            "application/vnd.google.colaboratory.intrinsic+json": {
              "type": "string"
            }
          },
          "metadata": {},
          "execution_count": 40
        }
      ]
    },
    {
      "cell_type": "code",
      "source": [
        "# a short python program similar to the one above\n",
        "\n",
        "user_input_length = int(input(\"Enter length (whole number): \"))\n",
        "user_input_width = int(input(\"Enter width (whole number): \"))\n",
        "user_input_price = float(input(\"Enter price (number or decimal): \"))\n",
        "\n",
        "length = user_input_length\n",
        "width = user_input_width\n",
        "price = user_input_price\n",
        "\n",
        "# do calculations\n",
        "total_footage = length * width\n",
        "total_cost = total_footage * price\n",
        "\n",
        "# display results\n",
        "print(\"------------------\")\n",
        "print(\"Length: \", length)\n",
        "print(\"Width: \", width)\n",
        "print(\"Total Footage: \", total_footage)\n",
        "print(\"Total Cost: \", total_cost)"
      ],
      "metadata": {
        "colab": {
          "base_uri": "https://localhost:8080/"
        },
        "id": "R88jzcvy3pUh",
        "outputId": "4547d1db-150a-4ca2-a07b-f51d88c947f1"
      },
      "execution_count": 41,
      "outputs": [
        {
          "output_type": "stream",
          "name": "stdout",
          "text": [
            "Enter length (whole number): 25\n",
            "Enter width (whole number): 25\n",
            "Enter price (number or decimal): 2\n",
            "------------------\n",
            "Length:  25\n",
            "Width:  25\n",
            "Total Footage:  625\n",
            "Total Cost:  1250.0\n"
          ]
        }
      ]
    }
  ]
}