{
  "nbformat": 4,
  "nbformat_minor": 0,
  "metadata": {
    "colab": {
      "name": "Reintroduction1.ipynb",
      "provenance": [],
      "authorship_tag": "ABX9TyODivOemzTxV4OB032a5y5S",
      "include_colab_link": true
    },
    "kernelspec": {
      "name": "python3",
      "display_name": "Python 3"
    },
    "language_info": {
      "name": "python"
    }
  },
  "cells": [
    {
      "cell_type": "markdown",
      "metadata": {
        "id": "view-in-github",
        "colab_type": "text"
      },
      "source": [
        "<a href=\"https://colab.research.google.com/github/AnthonyIacullo/LearningPython/blob/main/Reintroduction1.ipynb\" target=\"_parent\"><img src=\"https://colab.research.google.com/assets/colab-badge.svg\" alt=\"Open In Colab\"/></a>"
      ]
    },
    {
      "cell_type": "code",
      "execution_count": null,
      "metadata": {
        "colab": {
          "base_uri": "https://localhost:8080/"
        },
        "id": "hrZJMcUNeBXM",
        "outputId": "986cd292-77f0-4e50-cc88-120d4fac44f8"
      },
      "outputs": [
        {
          "output_type": "stream",
          "name": "stdout",
          "text": [
            "Hello, World!\n"
          ]
        }
      ],
      "source": [
        "print(\"Hello, World!\")"
      ]
    },
    {
      "cell_type": "code",
      "source": [
        "# python uses indentation to indicate a block of code\n",
        "if 5 > 2:\n",
        "  print(\"Five is greater than two!\")"
      ],
      "metadata": {
        "colab": {
          "base_uri": "https://localhost:8080/"
        },
        "id": "XPSO3E9neoW_",
        "outputId": "cf3f7506-8a2a-4cbe-b452-f239f0a72850"
      },
      "execution_count": null,
      "outputs": [
        {
          "output_type": "stream",
          "name": "stdout",
          "text": [
            "Five is greater than two!\n"
          ]
        }
      ]
    },
    {
      "cell_type": "code",
      "source": [
        "# python with throw an indentation error if you skip the indentation\n",
        "\n",
        "\"\"\"\n",
        "\n",
        "if 5 > 2: \n",
        "print(\"Five is grater than two!\")\n",
        "\n",
        "\"\"\""
      ],
      "metadata": {
        "colab": {
          "base_uri": "https://localhost:8080/",
          "height": 36
        },
        "id": "mBankpZFfVZG",
        "outputId": "c3010322-252c-40b1-f917-380f977a6757"
      },
      "execution_count": null,
      "outputs": [
        {
          "output_type": "execute_result",
          "data": {
            "text/plain": [
              "'\\n\\nif 5 > 2: \\nprint(\"Five is grater than two!\")\\n\\n'"
            ],
            "application/vnd.google.colaboratory.intrinsic+json": {
              "type": "string"
            }
          },
          "metadata": {},
          "execution_count": 38
        }
      ]
    },
    {
      "cell_type": "code",
      "source": [
        "# number of spaces for an indentation is up to you, four is common, needs at least one\n",
        "if 5 > 2 :\n",
        "  print(\"Five is greater than two!\")\n",
        "if 5 > 2:\n",
        "        print(\"Five is greater than two!\")"
      ],
      "metadata": {
        "colab": {
          "base_uri": "https://localhost:8080/"
        },
        "id": "CsXzLP54e24Z",
        "outputId": "1a0ec3f4-0d09-4ba0-f353-6c3c331cc115"
      },
      "execution_count": null,
      "outputs": [
        {
          "output_type": "stream",
          "name": "stdout",
          "text": [
            "Five is greater than two!\n",
            "Five is greater than two!\n"
          ]
        }
      ]
    },
    {
      "cell_type": "code",
      "source": [
        "# variables (don't have a command for declaration)\n",
        "x = 5\n",
        "y = \"Hello, World!\""
      ],
      "metadata": {
        "id": "92KFzSA1fx3d"
      },
      "execution_count": null,
      "outputs": []
    },
    {
      "cell_type": "code",
      "source": [
        "# comments in Python use the pound/hashtag symbol which are ignored\n",
        "\n",
        "# this is a comment\n",
        "print(\"Hello, World!\")"
      ],
      "metadata": {
        "colab": {
          "base_uri": "https://localhost:8080/"
        },
        "id": "ncNFaQhqf_QV",
        "outputId": "4eb2fcd8-dd8f-49d6-976b-98cce5016197"
      },
      "execution_count": null,
      "outputs": [
        {
          "output_type": "stream",
          "name": "stdout",
          "text": [
            "Hello, World!\n"
          ]
        }
      ]
    },
    {
      "cell_type": "code",
      "source": [
        "# comments can be placed at the end of a line\n",
        "\n",
        "print(\"Hello, World!\") # this is a comment"
      ],
      "metadata": {
        "colab": {
          "base_uri": "https://localhost:8080/"
        },
        "id": "9G-O55fvgUYl",
        "outputId": "5f027945-b6ae-4589-d412-6d9a2b4de863"
      },
      "execution_count": null,
      "outputs": [
        {
          "output_type": "stream",
          "name": "stdout",
          "text": [
            "Hello, World!\n"
          ]
        }
      ]
    },
    {
      "cell_type": "code",
      "source": [
        "# comments can explain code of prevent code from executing\n",
        "\n",
        "# print(\"Hello, World!\")\n",
        "print(\"Cheers, Mate!\")"
      ],
      "metadata": {
        "colab": {
          "base_uri": "https://localhost:8080/"
        },
        "id": "BBF8Sdcoge9m",
        "outputId": "4af69fb2-fcef-40e8-9c48-ca7a6c96816a"
      },
      "execution_count": null,
      "outputs": [
        {
          "output_type": "stream",
          "name": "stdout",
          "text": [
            "Cheers, Mate!\n"
          ]
        }
      ]
    },
    {
      "cell_type": "code",
      "source": [
        "# two ways for a comment that spans multiple lines\n",
        "\n",
        "# this is the first\n",
        "# way to show a comment that\n",
        "# uses multiple line\n",
        "print(\"Hello, World!\")\n",
        "\n",
        "\"\"\"\n",
        "This is the second\n",
        "way to show a comment that\n",
        "uses multiple lines\n",
        "\"\"\"\n",
        "print(\"Cheers, Mate!\")"
      ],
      "metadata": {
        "colab": {
          "base_uri": "https://localhost:8080/"
        },
        "id": "IlaAeGmrgsV8",
        "outputId": "b65641b1-5bbe-4d7d-f580-abe3cd885040"
      },
      "execution_count": null,
      "outputs": [
        {
          "output_type": "stream",
          "name": "stdout",
          "text": [
            "Hello, World!\n",
            "Cheers, Mate!\n"
          ]
        }
      ]
    },
    {
      "cell_type": "code",
      "source": [
        "\"\"\"\n",
        "Variables\n",
        "-containers for storing data\n",
        "-no command for declaring a variable\n",
        "-variables are created the moment you first assign a value to it\n",
        "\"\"\"\n",
        "\n",
        "x = 5\n",
        "y = \"John\"\n",
        "print(x)\n",
        "print(y)"
      ],
      "metadata": {
        "colab": {
          "base_uri": "https://localhost:8080/"
        },
        "id": "bm6M9eB7hUO9",
        "outputId": "15821c55-9a8f-4c84-be60-dd5ab20c515d"
      },
      "execution_count": null,
      "outputs": [
        {
          "output_type": "stream",
          "name": "stdout",
          "text": [
            "5\n",
            "John\n"
          ]
        }
      ]
    },
    {
      "cell_type": "code",
      "source": [
        "# var type doesn't need to be assigned\n",
        "# var type can be changed\n",
        "\n",
        "x = 4 # x is of type int\n",
        "print(type(x)) # gets the data type\n",
        "x = \"Sally\" # x is now of type str\n",
        "print(type(x)) # gets the data type"
      ],
      "metadata": {
        "colab": {
          "base_uri": "https://localhost:8080/"
        },
        "id": "hjaa6LzDhwjK",
        "outputId": "bf8160fc-7081-44c1-809a-108d7b33446f"
      },
      "execution_count": null,
      "outputs": [
        {
          "output_type": "stream",
          "name": "stdout",
          "text": [
            "<class 'int'>\n",
            "<class 'str'>\n"
          ]
        }
      ]
    },
    {
      "cell_type": "code",
      "source": [
        "# cast a variable to specify the data type\n",
        "\n",
        "x = str(3) # x will be '3'\n",
        "y = int(3) # y will be 3\n",
        "z = float(3) # z will be 3.0"
      ],
      "metadata": {
        "id": "IJ-ysv63iD8w"
      },
      "execution_count": null,
      "outputs": []
    },
    {
      "cell_type": "code",
      "source": [
        "# single or double quotes\n",
        "\n",
        "x = \"John\" \n",
        "print(x)\n",
        "# is the same as\n",
        "x = 'John'\n",
        "print(x)"
      ],
      "metadata": {
        "colab": {
          "base_uri": "https://localhost:8080/"
        },
        "id": "n6BQWNzVi57j",
        "outputId": "f29c8a56-b10f-4439-a329-50ae625ba030"
      },
      "execution_count": null,
      "outputs": [
        {
          "output_type": "stream",
          "name": "stdout",
          "text": [
            "John\n",
            "John\n"
          ]
        }
      ]
    },
    {
      "cell_type": "code",
      "source": [
        "# variable names are case-sensitive\n",
        "\n",
        "# the following will creat two variables\n",
        "a = 4\n",
        "A = \"Sally\"\n",
        "\n",
        "# A will not overwrite a\n",
        "\n",
        "print(a)\n",
        "print(A)"
      ],
      "metadata": {
        "colab": {
          "base_uri": "https://localhost:8080/"
        },
        "id": "pmbClID0jK2i",
        "outputId": "93a8f6e7-ac2c-4dab-f4f9-8fab3cb673e7"
      },
      "execution_count": null,
      "outputs": [
        {
          "output_type": "stream",
          "name": "stdout",
          "text": [
            "4\n",
            "Sally\n"
          ]
        }
      ]
    },
    {
      "cell_type": "code",
      "source": [
        "# ended on Variable Names"
      ],
      "metadata": {
        "id": "b11IVH20jsda"
      },
      "execution_count": null,
      "outputs": []
    }
  ]
}