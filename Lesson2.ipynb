{
  "nbformat": 4,
  "nbformat_minor": 0,
  "metadata": {
    "colab": {
      "name": "Lesson2.ipynb",
      "provenance": [],
      "authorship_tag": "ABX9TyOOw6RsZ9nKIABjEw1Zl1M1",
      "include_colab_link": true
    },
    "kernelspec": {
      "name": "python3",
      "display_name": "Python 3"
    },
    "language_info": {
      "name": "python"
    }
  },
  "cells": [
    {
      "cell_type": "markdown",
      "metadata": {
        "id": "view-in-github",
        "colab_type": "text"
      },
      "source": [
        "<a href=\"https://colab.research.google.com/github/AnthonyIacullo/LearningPython/blob/main/Lesson2.ipynb\" target=\"_parent\"><img src=\"https://colab.research.google.com/assets/colab-badge.svg\" alt=\"Open In Colab\"/></a>"
      ]
    },
    {
      "cell_type": "code",
      "execution_count": 2,
      "metadata": {
        "colab": {
          "base_uri": "https://localhost:8080/",
          "height": 36
        },
        "id": "E3g0hxFgaRRU",
        "outputId": "aa7b9e52-db43-4859-d620-b375de5b1c96"
      },
      "outputs": [
        {
          "output_type": "execute_result",
          "data": {
            "text/plain": [
              "'Lesson 2: Understanding programming basics'"
            ],
            "application/vnd.google.colaboratory.intrinsic+json": {
              "type": "string"
            }
          },
          "metadata": {},
          "execution_count": 2
        }
      ],
      "source": [
        "\"\"\"Lesson 2: Understanding programming basics\"\"\""
      ]
    },
    {
      "cell_type": "code",
      "source": [
        "# values of a standard addition operation involve three values\n",
        "value1 = 1\n",
        "value2 = 2\n",
        "value3 = value1 + value2\n",
        "print(\"1 + 2 =\", value3)"
      ],
      "metadata": {
        "colab": {
          "base_uri": "https://localhost:8080/"
        },
        "id": "PPAaHw-Dafma",
        "outputId": "d02ca40e-83c7-47c2-e6b4-38c3f24f623b"
      },
      "execution_count": 6,
      "outputs": [
        {
          "output_type": "stream",
          "name": "stdout",
          "text": [
            "1 + 2 = 3\n"
          ]
        }
      ]
    },
    {
      "cell_type": "code",
      "source": [
        "# if statements may only include two values that are compared to each other\n",
        "value1 = 1\n",
        "value2 = 5\n",
        "if value1 < value2:\n",
        "  print(value1, \"<\", value2)"
      ],
      "metadata": {
        "colab": {
          "base_uri": "https://localhost:8080/"
        },
        "id": "1WabVGnjbGy_",
        "outputId": "9ac326c7-1c76-4b1c-8794-7e6724f181a1"
      },
      "execution_count": 8,
      "outputs": [
        {
          "output_type": "stream",
          "name": "stdout",
          "text": [
            "1 < 5\n"
          ]
        }
      ]
    },
    {
      "cell_type": "code",
      "source": [
        "# text data type\n",
        "string_of_characters = \"this is text\"\n",
        "print(string_of_characters)\n",
        "print(type(string_of_characters))"
      ],
      "metadata": {
        "colab": {
          "base_uri": "https://localhost:8080/"
        },
        "id": "pncum5J2cMh3",
        "outputId": "c28b4fd7-0b1c-40b8-f7f6-b76d21396784"
      },
      "execution_count": 11,
      "outputs": [
        {
          "output_type": "stream",
          "name": "stdout",
          "text": [
            "this is text\n",
            "<class 'str'>\n"
          ]
        }
      ]
    },
    {
      "cell_type": "code",
      "source": [
        "# number data type (int, doubles, floats)\n",
        "a = 3\n",
        "b = 4.564\n",
        "\n",
        "print(a, \"is\", type(a))\n",
        "print(b, \"is\", type(b))"
      ],
      "metadata": {
        "colab": {
          "base_uri": "https://localhost:8080/"
        },
        "id": "dPP0LAIEdRA1",
        "outputId": "30c5a55a-c20c-471f-c043-831a9dd69f9d"
      },
      "execution_count": 19,
      "outputs": [
        {
          "output_type": "stream",
          "name": "stdout",
          "text": [
            "3 is <class 'int'>\n",
            "4.564 is <class 'float'>\n"
          ]
        }
      ]
    },
    {
      "cell_type": "code",
      "source": [
        "# true/false data type aka boolean values\n",
        "a = 2\n",
        "b = 3\n",
        "result1 = a > b\n",
        "result2 = a < b\n",
        "print(result1, \"is\", type(result1))\n",
        "print(result2, \"is\", type(result2))"
      ],
      "metadata": {
        "colab": {
          "base_uri": "https://localhost:8080/"
        },
        "id": "wmAxQAR_diqR",
        "outputId": "26369afc-774b-4379-d77c-01070d207822"
      },
      "execution_count": 18,
      "outputs": [
        {
          "output_type": "stream",
          "name": "stdout",
          "text": [
            "False is <class 'bool'>\n",
            "True is <class 'bool'>\n"
          ]
        }
      ]
    },
    {
      "cell_type": "code",
      "source": [
        "# date/time data type\n",
        "from datetime import date\n",
        "\n",
        "today = date.today()\n",
        "print(\"Today's date is:\", today)\n",
        "print(type(today))"
      ],
      "metadata": {
        "colab": {
          "base_uri": "https://localhost:8080/"
        },
        "id": "6-eN-gxffqzV",
        "outputId": "d155c092-35f3-4a52-8196-6e7419bc2321"
      },
      "execution_count": 22,
      "outputs": [
        {
          "output_type": "stream",
          "name": "stdout",
          "text": [
            "Today's date is: 2022-04-22\n",
            "<class 'datetime.date'>\n"
          ]
        }
      ]
    },
    {
      "cell_type": "code",
      "source": [
        "# data collections (lists, sets, arrays)\n",
        "list_of_items = [\"Kate\", \"124 W Main Street Boston\", 24, 4.0]\n",
        "print(list_of_items)\n",
        "print(type(list_of_items))"
      ],
      "metadata": {
        "colab": {
          "base_uri": "https://localhost:8080/"
        },
        "id": "W_9piBezgraw",
        "outputId": "7b7c832c-7540-43e7-d599-c658028e27c2"
      },
      "execution_count": 27,
      "outputs": [
        {
          "output_type": "stream",
          "name": "stdout",
          "text": [
            "['Kate', '124 W Main Street Boston', 24, 4.0]\n",
            "<class 'list'>\n"
          ]
        }
      ]
    }
  ]
}