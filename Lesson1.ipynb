{
  "nbformat": 4,
  "nbformat_minor": 0,
  "metadata": {
    "colab": {
      "name": "Lesson1.ipynb",
      "provenance": [],
      "authorship_tag": "ABX9TyMEiAaiOuBnvvtdwUhqROxz",
      "include_colab_link": true
    },
    "kernelspec": {
      "name": "python3",
      "display_name": "Python 3"
    },
    "language_info": {
      "name": "python"
    }
  },
  "cells": [
    {
      "cell_type": "markdown",
      "metadata": {
        "id": "view-in-github",
        "colab_type": "text"
      },
      "source": [
        "<a href=\"https://colab.research.google.com/github/AnthonyIacullo/LearningPython/blob/main/Lesson1.ipynb\" target=\"_parent\"><img src=\"https://colab.research.google.com/assets/colab-badge.svg\" alt=\"Open In Colab\"/></a>"
      ]
    },
    {
      "cell_type": "code",
      "execution_count": 1,
      "metadata": {
        "colab": {
          "base_uri": "https://localhost:8080/"
        },
        "id": "mKq-9Lc8hYZO",
        "outputId": "e6bfa4e1-b8a2-4a44-cb47-876814af264c"
      },
      "outputs": [
        {
          "output_type": "stream",
          "name": "stdout",
          "text": [
            "Hello, World!\n",
            "This is my first Python program!\n",
            "It is beautiful!\n",
            "\n",
            "\n",
            "2\n",
            "4\n",
            "16\n",
            "256\n",
            "65536\n",
            "\n",
            "\n",
            "Getting ready to count...\n",
            "I'm counting and at  0\n",
            "I'm counting and at  1\n",
            "I'm counting and at  2\n",
            "I'm counting and at  3\n",
            "I'm counting and at  4\n",
            "I'm counting and at  5\n",
            "I'm counting and at  6\n",
            "I'm counting and at  7\n",
            "I'm counting and at  8\n",
            "I'm counting and at  9\n",
            "Done counting!\n",
            "\n",
            "\n",
            "Enter your favorite fruit and press enter: pear\n",
            "Your favorite fruit is  pear\n"
          ]
        }
      ],
      "source": [
        "\"\"\"Lesson 1: Setting Up a Python Programming Environment (Replit, \n",
        "Jupyter Notebook, Google Colaboratory, PyCharm, etc.)\"\"\"\n",
        "\n",
        "\n",
        "# Listing 1.1: Say Hello\n",
        "print(\"Hello, World!\")\n",
        "print(\"This is my first Python program!\")\n",
        "print(\"It is beautiful!\")\n",
        "print(\"\\n\")\n",
        "\n",
        "\n",
        "# Listing 1.2: What's It Do?\n",
        "x = 2\n",
        "while (x < 100000):\n",
        "  print(x)\n",
        "  x = x**2 # exponential\n",
        "print(\"\\n\")\n",
        "\n",
        "\n",
        "# Listing 1.3: Counting\n",
        "print(\"Getting ready to count...\")\n",
        "for x in range(10):\n",
        "  print(\"I'm counting and at \", x) #\n",
        "print(\"Done counting!\")\n",
        "print(\"\\n\")\n",
        "\n",
        "# Listing 1.4: Fruity Code\n",
        "fruit = input(\"Enter your favorite fruit and press enter: \")\n",
        "print(\"Your favorite fruit is \", fruit)\n"
      ]
    }
  ]
}