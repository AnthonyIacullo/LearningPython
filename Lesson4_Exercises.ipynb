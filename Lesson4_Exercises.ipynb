{
  "nbformat": 4,
  "nbformat_minor": 0,
  "metadata": {
    "colab": {
      "name": "Lesson4_Exercises.ipynb",
      "provenance": [],
      "collapsed_sections": [],
      "authorship_tag": "ABX9TyPqmUaoOQbR1dn6krklO9DK",
      "include_colab_link": true
    },
    "kernelspec": {
      "name": "python3",
      "display_name": "Python 3"
    },
    "language_info": {
      "name": "python"
    }
  },
  "cells": [
    {
      "cell_type": "markdown",
      "metadata": {
        "id": "view-in-github",
        "colab_type": "text"
      },
      "source": [
        "<a href=\"https://colab.research.google.com/github/AnthonyIacullo/LearningPython/blob/main/Lesson4_Exercises.ipynb\" target=\"_parent\"><img src=\"https://colab.research.google.com/assets/colab-badge.svg\" alt=\"Open In Colab\"/></a>"
      ]
    },
    {
      "cell_type": "code",
      "execution_count": 29,
      "metadata": {
        "colab": {
          "base_uri": "https://localhost:8080/"
        },
        "id": "xDGuYx1zKZeP",
        "outputId": "b0294802-c696-4549-f54a-828c88a53e72"
      },
      "outputs": [
        {
          "output_type": "stream",
          "name": "stdout",
          "text": [
            "Enter an integer: 33\n",
            "33 is of <class 'int'>\n",
            "Enter a decimal: 0.06\n",
            "0.06 is of <class 'float'>\n",
            "Enter a complex number: 1+3.4j\n",
            "1+3.4j is of <class 'complex'>\n"
          ]
        }
      ],
      "source": [
        "# Exercise 1: Prompting the User\n",
        "\n",
        "user_input = input(\"Enter an integer: \") ; # promt user to enter an int\n",
        "user_input_int = int(user_input) ; # convert str from input to int\n",
        "print(user_input, \"is of\", type(user_input_int)) ; # output input and type\n",
        "\n",
        "user_input = input(\"Enter a decimal: \") ; # promt user to enter a float\n",
        "user_input_float = float(user_input) ; # convert str from input to float\n",
        "print(user_input, \"is of\", type(user_input_float)) ; # output input and type\n",
        "\n",
        "user_input = input(\"Enter a complex number: \") ; # prompt user to enter a complex type\n",
        "user_input_complex = complex(user_input) ; # convert str from input to complex\n",
        "print(user_input, \"is of\", type(user_input_complex)) ; # output input and type"
      ]
    },
    {
      "cell_type": "code",
      "source": [
        "# Exercise 2: Manipulated Math\n",
        "\n",
        "# fix the following code so result equals 576\n",
        "result = 5 + 3 ** 2 * 9\n",
        "print(\"5 + 3 ** 2 * 9 =\", result)\n",
        "\n",
        "# fixed code so result should be 576 and not 86 by using parenthesis \n",
        "result = ( (5 + 3) ** 2 ) * 9\n",
        "print(\"( (5 + 3) ** 2 ) * 9 =\", result)"
      ],
      "metadata": {
        "colab": {
          "base_uri": "https://localhost:8080/"
        },
        "id": "3lB7Y_yhNx1h",
        "outputId": "f700e91c-4230-4c66-9372-54c5d396d20a"
      },
      "execution_count": 30,
      "outputs": [
        {
          "output_type": "stream",
          "name": "stdout",
          "text": [
            "5 + 3 ** 2 * 9 = 86\n",
            "( (5 + 3) ** 2 ) * 9 = 576\n"
          ]
        }
      ]
    },
    {
      "cell_type": "code",
      "source": [
        "# Exercise 3: Integers Only\n",
        "\n",
        "import math # import library in order to truncate float\n",
        "\n",
        "user_input = input(\"Enter a decimal: \") ; # prompt user for a float \n",
        "user_input_float = float(user_input) ; # convert str from input to float\n",
        "user_input_integral = math.trunc(user_input_float) ; # truncate decimal for int portion\n",
        "print(user_input, \"truncated to integral part is\", user_input_integral) ; # output int portion"
      ],
      "metadata": {
        "colab": {
          "base_uri": "https://localhost:8080/"
        },
        "id": "tRwXgUYjPz0L",
        "outputId": "bbc011c3-1483-4d54-8cd0-ca77f03d4727"
      },
      "execution_count": 31,
      "outputs": [
        {
          "output_type": "stream",
          "name": "stdout",
          "text": [
            "Enter a decimal: 4.345\n",
            "4.345 truncated to integral part is 4\n"
          ]
        }
      ]
    },
    {
      "cell_type": "code",
      "source": [
        "# Exercise 4: Current Value\n",
        "\n",
        "# var def that prompts user for each value\n",
        "P = float(input(\"Enter your initial deposit: $\")) ; \n",
        "r = float(input(\"Enter the interest rate as a fraction: \")) ;\n",
        "n = float(input(\"Enter the number of times per year interest is calculated: \")) ;\n",
        "t = float(input(\"Enter the number of years since the initial deposit was made: \")) ;\n",
        "\n",
        "# calculate current value of the deposit \n",
        "V = P * (1 + r/n) ** (n * t) ;\n",
        "\n",
        "# print output\n",
        "print(\"\\nYour initial deposit was: $\", P) ;\n",
        "print(\"Interest rate was: \", r) ;\n",
        "print(\"Number of times per year interest was calculated: \", n) ;\n",
        "print(\"Number of years since initial deposit was made: \", t) ;\n",
        "print(\"\\nCurrent value of your intital deposit is: $\", round(V, 2)) ;"
      ],
      "metadata": {
        "colab": {
          "base_uri": "https://localhost:8080/"
        },
        "id": "euYZJHYERbZN",
        "outputId": "1a20d76a-be27-4a2e-9e5d-531d169e0a9a"
      },
      "execution_count": 35,
      "outputs": [
        {
          "output_type": "stream",
          "name": "stdout",
          "text": [
            "Enter your initial deposit: $1050.65\n",
            "Enter the interest rate as a fraction: 0.05\n",
            "Enter the number of times per year interest is calculated: 6\n",
            "Enter the number of years since the initial deposit was made: 3\n",
            "\n",
            "Your initial deposit was: $ 1050.65\n",
            "Interest rate was:  0.05\n",
            "Number of times per year interest was calculated:  6.0\n",
            "Number of years since initial deposit was made:  3.0\n",
            "\n",
            "Current value of your intital deposit is: $ 1219.92\n"
          ]
        }
      ]
    },
    {
      "cell_type": "code",
      "source": [
        "# Exercise 5: Simple Interest\n",
        "\n",
        "# var def that prompts user for each value\n",
        "principal = float(input(\"Enter principal amount: $\")) ;\n",
        "rate = float(input(\"Enter interest rate: \")) ;\n",
        "days = float(input(\"Enter the number of days for the loan: \")) ;\n",
        "\n",
        "# operation\n",
        "interest = (principal * rate * days) / 365 ;\n",
        "\n",
        "# print output\n",
        "print(\"Simple interest for the life of the loan: $\", round(interest, 2)) ;"
      ],
      "metadata": {
        "colab": {
          "base_uri": "https://localhost:8080/"
        },
        "id": "3Xpck_5MYKsF",
        "outputId": "cbf1c1a1-d9ea-4827-d0f8-d5a39fdb66c6"
      },
      "execution_count": 37,
      "outputs": [
        {
          "output_type": "stream",
          "name": "stdout",
          "text": [
            "Enter principal amount: $1000\n",
            "Enter interest rate: 0.05\n",
            "Enter the number of days for the loan: 180\n",
            "Simple interest for the life of the loan: $ 24.66\n"
          ]
        }
      ]
    },
    {
      "cell_type": "code",
      "source": [
        "# Exercise 6: True or False\n",
        "\n",
        "# var def for true statements\n",
        "result1 = 1 > 0 ;\n",
        "result2 = -5 < 0 ;\n",
        "result3 = True and True ;\n",
        "\n",
        "# var def for false statements\n",
        "result4 = 1 < 0 ;\n",
        "result5 = -5 > 0 ;\n",
        "result6 = not True ;\n",
        "\n",
        "# print output for true statements\n",
        "print(\"Three true statements:\")\n",
        "print(\"1 > 0 is\", result1) ;\n",
        "print(\"-5 < 0 is\", result2) ;\n",
        "print(\"True and True is\", result3) ;\n",
        "\n",
        "# print output of false statements\n",
        "print(\"\\nThree false statements:\")\n",
        "print(\"1 < 0 is\", result4) ; \n",
        "print(\"-5 > 0 is\", result5) ;\n",
        "print(\"not True is\", result6) ;"
      ],
      "metadata": {
        "colab": {
          "base_uri": "https://localhost:8080/"
        },
        "id": "-DYaeMZnZvoe",
        "outputId": "9f5c91a0-8fda-4398-addb-198d96623700"
      },
      "execution_count": 38,
      "outputs": [
        {
          "output_type": "stream",
          "name": "stdout",
          "text": [
            "Three true statements:\n",
            "1 > 0 is True\n",
            "-5 < 0 is True\n",
            "True and True is True\n",
            "\n",
            "Three false statements:\n",
            "1 < 0 is False\n",
            "-5 > 0 is False\n",
            "not True is False\n"
          ]
        }
      ]
    },
    {
      "cell_type": "code",
      "source": [
        "# Exercise 7: Playing with Numbers\n",
        "\n",
        "import math # import math library for sqrt function\n",
        "\n",
        "# var def\n",
        "user_input = int(input(\"Enter a number: \")) ; # prompt user for a number\n",
        "\n",
        "# print output \n",
        "print(\"You entered:\", user_input) ; # user input\n",
        "print(\"The Boolean of your number is:\", bool(user_input)) ; # boolean of input\n",
        "print(\"The binary equivalent of your number is:\", bin(user_input)) ; # binary equivalent of int\n",
        "print(\"The sqyare root of your number is:\", math.sqrt(user_input)) ; # square root of int"
      ],
      "metadata": {
        "colab": {
          "base_uri": "https://localhost:8080/"
        },
        "id": "sQkCXl3ubPQM",
        "outputId": "e44d999c-eede-4052-f75f-687aa70b7ffb"
      },
      "execution_count": 39,
      "outputs": [
        {
          "output_type": "stream",
          "name": "stdout",
          "text": [
            "Enter a number: 64\n",
            "You entered: 64\n",
            "The Boolean of your number is: True\n",
            "The binary equivalent of your number is: 0b1000000\n",
            "The sqyare root of your number is: 8.0\n"
          ]
        }
      ]
    },
    {
      "cell_type": "code",
      "source": [
        "# Exercise 8: Do the Math\n",
        "\n",
        "# var def that propmts user for a series of five ints\n",
        "val1 = int(input(\"Enter the first integer: \")) ;\n",
        "val2 = int(input(\"Enter the second integer: \")) ;\n",
        "val3 = int(input(\"Enter the third integer: \")) ;\n",
        "val4 = int(input(\"Enter the fourth integer: \")) ;\n",
        "val5 = int(input(\"Enter the fifth integer: \")) ;\n",
        "\n",
        "# operations performed on user's inputs\n",
        "product_of_vals = val1 * val2 * val3 * val4 * val5 ; # product of the five ints\n",
        "sum_of_vals = val1 + val2 + val3 + val4 + val5 ; # sum of the five ints\n",
        "avg_of_vals = sum_of_vals / 5 ; # average of the five ints\n",
        "\n",
        "# print outputs \n",
        "print(val1, val2, val3, val4, val5) ;\n",
        "print(product_of_vals) ;\n",
        "print(sum_of_vals) ;\n",
        "print(avg_of_vals) ;"
      ],
      "metadata": {
        "colab": {
          "base_uri": "https://localhost:8080/"
        },
        "id": "VEN1A6YpdAMf",
        "outputId": "c4bb7d3a-57b5-4fae-cf70-13c087421695"
      },
      "execution_count": 40,
      "outputs": [
        {
          "output_type": "stream",
          "name": "stdout",
          "text": [
            "Enter the first integer: 2\n",
            "Enter the second integer: 2\n",
            "Enter the third integer: 2\n",
            "Enter the fourth integer: 2\n",
            "Enter the fifth integer: 2\n",
            "2 2 2 2 2\n",
            "32\n",
            "10\n",
            "2.0\n"
          ]
        }
      ]
    },
    {
      "cell_type": "code",
      "source": [
        "# Exercise 9: Street Address\n",
        "\n",
        "# var def\n",
        "address = input(\"Enter a street address: \") ; # street address to manipulate\n",
        "\n",
        "# split/separate str at whitespaces\n",
        "address_list = address.split(\" \") ;\n",
        "\n",
        "# print output\n",
        "print(\"The street address is:\", address) ; # displays address\n",
        "print(\"The building or house number is:\", address_list[0]) ; # displays index 0 from address_list which is the building/house number\n",
        "print(\"The street name is:\", address_list[1] + \" \" + address_list[2]) ; # displays index 1 and 2 which is the street address"
      ],
      "metadata": {
        "colab": {
          "base_uri": "https://localhost:8080/"
        },
        "id": "7aT1hviVuhlC",
        "outputId": "b57ac6bc-502e-476e-ee33-bc7069acca40"
      },
      "execution_count": 43,
      "outputs": [
        {
          "output_type": "stream",
          "name": "stdout",
          "text": [
            "Enter a street address: 25 Main Street\n",
            "The street address is: 25 Main Street\n",
            "The building or house number is: 25\n",
            "The street name is: Main Street\n"
          ]
        }
      ]
    }
  ]
}