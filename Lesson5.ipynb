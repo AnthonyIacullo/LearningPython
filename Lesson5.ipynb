{
  "nbformat": 4,
  "nbformat_minor": 0,
  "metadata": {
    "colab": {
      "name": "Lesson5.ipynb",
      "provenance": [],
      "collapsed_sections": [],
      "authorship_tag": "ABX9TyN7ES8QPYReIKV8inmarohu",
      "include_colab_link": true
    },
    "kernelspec": {
      "name": "python3",
      "display_name": "Python 3"
    },
    "language_info": {
      "name": "python"
    }
  },
  "cells": [
    {
      "cell_type": "markdown",
      "metadata": {
        "id": "view-in-github",
        "colab_type": "text"
      },
      "source": [
        "<a href=\"https://colab.research.google.com/github/AnthonyIacullo/LearningPython/blob/main/Lesson5.ipynb\" target=\"_parent\"><img src=\"https://colab.research.google.com/assets/colab-badge.svg\" alt=\"Open In Colab\"/></a>"
      ]
    },
    {
      "cell_type": "code",
      "execution_count": 1,
      "metadata": {
        "colab": {
          "base_uri": "https://localhost:8080/",
          "height": 36
        },
        "id": "mz7JqkTLVR87",
        "outputId": "18a774e2-fa11-4789-cfcd-15564ae9bf0f"
      },
      "outputs": [
        {
          "output_type": "execute_result",
          "data": {
            "text/plain": [
              "'Lesson 5: Using Python Control Statements'"
            ],
            "application/vnd.google.colaboratory.intrinsic+json": {
              "type": "string"
            }
          },
          "metadata": {},
          "execution_count": 1
        }
      ],
      "source": [
        "\"\"\"Lesson 5: Using Python Control Statements\"\"\""
      ]
    },
    {
      "cell_type": "code",
      "source": [
        "# Listing 5.1 - Sequential flow of data\n",
        "\n",
        "# line-by-line execution of code in order\n",
        "print( (2 + 3) * 4 ) ; print( 2 ** 10 ) ; print( 6 / 3 ) ; print( 7 / 3 ) ; \n",
        "print( 7 // 3 ) ; print( 7 % 3 ) ; print( 3 / 6 ) ; print( 3 // 6 ) ; \n",
        "print( 3 % 6 ) ; print( 2 ** 100 ) ; "
      ],
      "metadata": {
        "colab": {
          "base_uri": "https://localhost:8080/"
        },
        "id": "0W3wNgXWWhb_",
        "outputId": "dce317a9-f10c-4d07-fb58-0bcf274fa306"
      },
      "execution_count": 3,
      "outputs": [
        {
          "output_type": "stream",
          "name": "stdout",
          "text": [
            "20\n",
            "1024\n",
            "2.0\n",
            "2.3333333333333335\n",
            "2\n",
            "1\n",
            "0.5\n",
            "0\n",
            "3\n",
            "1267650600228229401496703205376\n"
          ]
        }
      ]
    },
    {
      "cell_type": "code",
      "source": [
        "# Listing 5.2 - Using an if statement in Python\n",
        "\n",
        "# var def\n",
        "password = \"admIn\" # password entered as admIn\n",
        "condition = ( password == \"admin\" ) # checks if password is == to str and evaluates to False\n",
        "\n",
        "# if condition == True, meaning password is correct\n",
        "if condition:\n",
        "  print(\"password correct\")\n",
        "\n",
        "# if condition == False, meaning password is wrong\n",
        "if condition == False:\n",
        "  print(\"password incorrect\")"
      ],
      "metadata": {
        "colab": {
          "base_uri": "https://localhost:8080/"
        },
        "id": "ZV3-_wTAaCx0",
        "outputId": "d4d4e3d1-498c-4cf6-a847-29d227799701"
      },
      "execution_count": 9,
      "outputs": [
        {
          "output_type": "stream",
          "name": "stdout",
          "text": [
            "password incorrect\n"
          ]
        }
      ]
    },
    {
      "cell_type": "code",
      "source": [
        "# Listing 5.2 - With Correct Password\n",
        "\n",
        "# var def\n",
        "password = \"admIn\" # password entered as admIn\n",
        "condition = ( password == \"admIn\" ) # checks if password is == to str and evaluates to True\n",
        "\n",
        "# if condition == True, meaning password is correct\n",
        "if condition:\n",
        "  print(\"password correct\")\n",
        "\n",
        "# if condition == False, meaning password is wrong\n",
        "if condition == False:\n",
        "  print(\"password incorrect\")"
      ],
      "metadata": {
        "colab": {
          "base_uri": "https://localhost:8080/"
        },
        "id": "VIxjn-flbdhO",
        "outputId": "57380d39-a7b9-4139-a429-b5a5fc4135b6"
      },
      "execution_count": 10,
      "outputs": [
        {
          "output_type": "stream",
          "name": "stdout",
          "text": [
            "password correct\n"
          ]
        }
      ]
    },
    {
      "cell_type": "code",
      "source": [
        "# Listing 5.3 - Can a person drive?\n",
        "\n",
        "# var def\n",
        "age = 21 ;\n",
        "condition = ( age >= 16 ) ;\n",
        "\n",
        "# condition will evaluate to True or False\n",
        "if condition == True:\n",
        "  # True if value of age is >= to 16\n",
        "  print(\"This person is allowed to drive.\")\n",
        "else:\n",
        "  # False if value of age is < 16\n",
        "  print(\"This person is not allowed to drive.\")"
      ],
      "metadata": {
        "colab": {
          "base_uri": "https://localhost:8080/"
        },
        "id": "3XiL7VG3dbjc",
        "outputId": "2c5a6bb9-ce04-41b7-fad0-957cfd95329a"
      },
      "execution_count": 12,
      "outputs": [
        {
          "output_type": "stream",
          "name": "stdout",
          "text": [
            "This person is allowed to drive.\n"
          ]
        }
      ]
    },
    {
      "cell_type": "code",
      "source": [
        "# Listing 5.3 - With person who can't drive\n",
        "\n",
        "# var def\n",
        "age = 12 ;\n",
        "condition = ( age >= 16 ) ;\n",
        "\n",
        "# condition will evaluate to True or False\n",
        "if condition == True:\n",
        "  # True if value of age is >= to 16\n",
        "  print(\"This person is allowed to drive.\")\n",
        "else:\n",
        "  # False if value of age is < 16\n",
        "  print(\"This person is not allowed to drive.\")"
      ],
      "metadata": {
        "colab": {
          "base_uri": "https://localhost:8080/"
        },
        "id": "2_mW7hHReT1f",
        "outputId": "ae25394a-4831-4f6d-cba6-59c565f5e58c"
      },
      "execution_count": 15,
      "outputs": [
        {
          "output_type": "stream",
          "name": "stdout",
          "text": [
            "This person is not allowed to drive.\n"
          ]
        }
      ]
    },
    {
      "cell_type": "code",
      "source": [
        "# Listing 5.4 - Checking an incorrect username\n",
        "\n",
        "# var def\n",
        "correct_username = \"admin\" \n",
        "guessed_username = \"Admin\"\n",
        "\n",
        "# if-else statement\n",
        "if correct_username == guessed_username:\n",
        "  # only displays if correct_username equals guessed_username\n",
        "  print(\"Access Graned\")\n",
        "else:\n",
        "  # only displays if correct_username not equal to guessed_username\n",
        "  print(\"Access Denied\")"
      ],
      "metadata": {
        "colab": {
          "base_uri": "https://localhost:8080/"
        },
        "id": "hV_w4DhJguPC",
        "outputId": "3bbaf41e-2194-4ec7-bcb8-54993e6a2dcf"
      },
      "execution_count": 17,
      "outputs": [
        {
          "output_type": "stream",
          "name": "stdout",
          "text": [
            "Access Denied\n"
          ]
        }
      ]
    },
    {
      "cell_type": "code",
      "source": [
        "# Listing 5.4 - Checking a correct username\n",
        "\n",
        "# var def\n",
        "correct_username = \"admin\" \n",
        "guessed_username = \"admin\"\n",
        "\n",
        "# if-else statement\n",
        "if correct_username == guessed_username:\n",
        "  # only displays if correct_username equals guessed_username\n",
        "  print(\"Access Graned\")\n",
        "else:\n",
        "  # only displays if correct_username not equal to guessed_username\n",
        "  print(\"Access Denied\")"
      ],
      "metadata": {
        "colab": {
          "base_uri": "https://localhost:8080/"
        },
        "id": "5shbRWeEiBfA",
        "outputId": "5e882e58-dd1d-4581-c78a-21b4d4947487"
      },
      "execution_count": 18,
      "outputs": [
        {
          "output_type": "stream",
          "name": "stdout",
          "text": [
            "Access Graned\n"
          ]
        }
      ]
    }
  ]
}