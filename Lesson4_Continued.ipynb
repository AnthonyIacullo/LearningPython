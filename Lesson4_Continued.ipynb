{
  "nbformat": 4,
  "nbformat_minor": 0,
  "metadata": {
    "colab": {
      "name": "Lesson4_Continued.ipynb",
      "provenance": [],
      "collapsed_sections": [],
      "authorship_tag": "ABX9TyP7csLygVNdkf+6G6ZjuFlc",
      "include_colab_link": true
    },
    "kernelspec": {
      "name": "python3",
      "display_name": "Python 3"
    },
    "language_info": {
      "name": "python"
    }
  },
  "cells": [
    {
      "cell_type": "markdown",
      "metadata": {
        "id": "view-in-github",
        "colab_type": "text"
      },
      "source": [
        "<a href=\"https://colab.research.google.com/github/AnthonyIacullo/LearningPython/blob/main/Lesson4_Continued.ipynb\" target=\"_parent\"><img src=\"https://colab.research.google.com/assets/colab-badge.svg\" alt=\"Open In Colab\"/></a>"
      ]
    },
    {
      "cell_type": "code",
      "execution_count": 6,
      "metadata": {
        "colab": {
          "base_uri": "https://localhost:8080/"
        },
        "id": "8yAZrKMLAZtq",
        "outputId": "faacb9d5-01e5-46ef-db84-591dc7cdde49"
      },
      "outputs": [
        {
          "output_type": "stream",
          "name": "stdout",
          "text": [
            "4945.971040318913\n",
            "1445\n",
            "-250.39000000000001\n",
            "1.2364927600797282\n"
          ]
        }
      ],
      "source": [
        "# Listing 4.8 - Fixing the bank application calculations\n",
        "\n",
        "# variables defined\n",
        "acctBal = 13445 ; # account balance\n",
        "locBal = 16000 ; # line of credit balance\n",
        "savBal = 4000 ; # savings balance\n",
        "savInterest = 0.025 ; # savings interest\n",
        "locInterest = 0.098 ; # line of credit interest\n",
        "\n",
        "months = 12 ; \n",
        "years = 8.5 ;\n",
        "numString = \"12345\" ;\n",
        "\n",
        "# operations\n",
        "compInt = savBal * ((1 + (savInterest / months)) ** (months * years)) ;\n",
        "result1 = (acctBal + savBal) - locBal ;\n",
        "result2 = (acctBal - locBal) * locInterest ;\n",
        "result3 = ((savInterest / months) + 1) ** (months * years) ;\n",
        "\n",
        "# output\n",
        "print(compInt) ; print(result1) ; print(result2) ; print(result3) ; "
      ]
    },
    {
      "cell_type": "code",
      "source": [
        "# Listing 4.9 - Using Python math functions\n",
        "\n",
        "# variables defined\n",
        "a = 10 ; b = 20 ; c = 15.578 ; d = 15.494 ; e = 15.50000 ;\n",
        "\n",
        "# built-in math functions\n",
        "f = pow(a, b) ; g = round(c) ; h = round(d) ; i = round(e) ; j = round(d, 1) ;\n",
        "k = bin(a) ;\n",
        "\n",
        "# print output\n",
        "print(f) ; print(g) ; print(h) ; print(i) ; print(j) ; print(k) ;"
      ],
      "metadata": {
        "colab": {
          "base_uri": "https://localhost:8080/"
        },
        "id": "gSHSifYkGSGa",
        "outputId": "552d969d-0a78-4e0d-f458-12939c4c2c49"
      },
      "execution_count": 7,
      "outputs": [
        {
          "output_type": "stream",
          "name": "stdout",
          "text": [
            "100000000000000000000\n",
            "16\n",
            "15\n",
            "16\n",
            "15.5\n",
            "0b1010\n"
          ]
        }
      ]
    },
    {
      "cell_type": "code",
      "source": [
        "# Listing 4.10 - The banking application with rounding added\n",
        "\n",
        "# variables defined\n",
        "acctBal = 13445 ; # account balance\n",
        "locBal = 16000 ; # line of credit balance\n",
        "savBal = 4000 ; # savings balance\n",
        "savInterest = 0.025 ; # savings interest\n",
        "locInterest = 0.098 ; # line of credit interest\n",
        "\n",
        "months = 12 ; \n",
        "years = 8.5 ;\n",
        "numString = \"12345\" ;\n",
        "\n",
        "# operations\n",
        "compInt = savBal * ((1 + (savInterest / months)) ** (months * years)) ;\n",
        "result1 = (acctBal + savBal) - locBal ;\n",
        "result2 = (acctBal - locBal) * locInterest ;\n",
        "result3 = ((savInterest / months) + 1) ** (months * years) ;\n",
        "result4 = ((locInterest * months * years) + 1) * locBal ;\n",
        "\n",
        "# print output\n",
        "print(round(compInt, 2)) ; print(result1) ; print(round(result2, 2)) ; \n",
        "print(result3) ; print(round(result4, 1)) ;"
      ],
      "metadata": {
        "colab": {
          "base_uri": "https://localhost:8080/"
        },
        "id": "-IE2o3JnH03l",
        "outputId": "2154a384-0b35-454a-f97c-9e0d1b01665b"
      },
      "execution_count": 8,
      "outputs": [
        {
          "output_type": "stream",
          "name": "stdout",
          "text": [
            "4945.97\n",
            "1445\n",
            "-250.39\n",
            "1.2364927600797282\n",
            "175936.0\n"
          ]
        }
      ]
    },
    {
      "cell_type": "code",
      "source": [
        "# Listing 4.11 - Using math module functions\n",
        "\n",
        "# import necessary module to have access to its function contained in the library\n",
        "import math\n",
        "\n",
        "# variables defined\n",
        "a = 6.1 ; \n",
        "b = math.trunc(a) ; # the integral part of the float\n",
        "c = math.floor(a) ; # round down\n",
        "d = math.ceil(a) ; # round up\n",
        "\n",
        "# print output\n",
        "print(a) ; print(b) ; print(c) ; print(d) ; print(math.pi)"
      ],
      "metadata": {
        "colab": {
          "base_uri": "https://localhost:8080/"
        },
        "id": "oVTR7GmuKjoS",
        "outputId": "1a55c8ba-161e-4388-8f9b-6a75be8b7143"
      },
      "execution_count": 10,
      "outputs": [
        {
          "output_type": "stream",
          "name": "stdout",
          "text": [
            "6.1\n",
            "6\n",
            "6\n",
            "7\n",
            "3.141592653589793\n"
          ]
        }
      ]
    },
    {
      "cell_type": "code",
      "source": [
        "# Listing 4.12 - A new banking Python script\n",
        "\n",
        "# import necessary module to have access to its function contained in the library\n",
        "import math ;\n",
        "\n",
        "# variables defined\n",
        "loan1 = 12383.89 ; \n",
        "loan2 = 48339.99 ;\n",
        "rate1 = 0.078 ;\n",
        "rate2 = 0.19 ;\n",
        "\n",
        "# operations\n",
        "roundLoanA = math.ceil(loan1 * rate1) ;\n",
        "roundLoanB = math.floor(loan2 * rate2) ;\n",
        "sum_of_loan = roundLoanA + roundLoanB ;\n",
        "\n",
        "# print output\n",
        "print(roundLoanA) ;\n",
        "print(roundLoanB) ;\n",
        "print(sum_of_loan)"
      ],
      "metadata": {
        "colab": {
          "base_uri": "https://localhost:8080/"
        },
        "id": "bUCM6bKyMPF5",
        "outputId": "42405d58-8b41-4f76-c988-6c2dd4d00d68"
      },
      "execution_count": 13,
      "outputs": [
        {
          "output_type": "stream",
          "name": "stdout",
          "text": [
            "966\n",
            "9184\n",
            "10150\n"
          ]
        }
      ]
    }
  ]
}