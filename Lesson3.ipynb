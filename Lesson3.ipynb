{
  "nbformat": 4,
  "nbformat_minor": 0,
  "metadata": {
    "colab": {
      "name": "Lesson3.ipynb",
      "provenance": [],
      "authorship_tag": "ABX9TyM0PSRh+EBtSdUN41iWqClS",
      "include_colab_link": true
    },
    "kernelspec": {
      "name": "python3",
      "display_name": "Python 3"
    },
    "language_info": {
      "name": "python"
    }
  },
  "cells": [
    {
      "cell_type": "markdown",
      "metadata": {
        "id": "view-in-github",
        "colab_type": "text"
      },
      "source": [
        "<a href=\"https://colab.research.google.com/github/AnthonyIacullo/LearningPython/blob/main/Lesson3.ipynb\" target=\"_parent\"><img src=\"https://colab.research.google.com/assets/colab-badge.svg\" alt=\"Open In Colab\"/></a>"
      ]
    },
    {
      "cell_type": "code",
      "execution_count": 57,
      "metadata": {
        "colab": {
          "base_uri": "https://localhost:8080/",
          "height": 36
        },
        "id": "vJ1JupEw0maa",
        "outputId": "415261f5-d229-407d-eb80-67526bd4e924"
      },
      "outputs": [
        {
          "output_type": "execute_result",
          "data": {
            "text/plain": [
              "'Lesson 3: Exploring Basic Python Syntax'"
            ],
            "application/vnd.google.colaboratory.intrinsic+json": {
              "type": "string"
            }
          },
          "metadata": {},
          "execution_count": 57
        }
      ],
      "source": [
        "\"\"\"Lesson 3: Exploring Basic Python Syntax\"\"\""
      ]
    },
    {
      "cell_type": "code",
      "source": [
        "# Listing 3.1\n",
        "\n",
        "print(\"Hello, welcome to the banking portal.\")\n",
        "print(\"In this portal, you can handle all your banking needs.\")"
      ],
      "metadata": {
        "colab": {
          "base_uri": "https://localhost:8080/"
        },
        "id": "jiPMlqim2Arx",
        "outputId": "30fd6a67-3e30-4134-f500-2bdacebd5e1e"
      },
      "execution_count": 58,
      "outputs": [
        {
          "output_type": "stream",
          "name": "stdout",
          "text": [
            "Hello, welcome to the banking portal.\n",
            "In this portal, you can handle all your banking needs.\n"
          ]
        }
      ]
    },
    {
      "cell_type": "code",
      "source": [
        "# using semicolons which are optional and separate multiple statements on one line\n",
        "\n",
        "print(\"Hello!\") ; print(\"World!\") ; print(\"Coding is fun!\") \n",
        "\n",
        "# notice it enters output on a new line"
      ],
      "metadata": {
        "colab": {
          "base_uri": "https://localhost:8080/"
        },
        "id": "fuvKvPDu2OXT",
        "outputId": "2cc8e073-72e1-449f-ed52-6ef3bfd0ff03"
      },
      "execution_count": 59,
      "outputs": [
        {
          "output_type": "stream",
          "name": "stdout",
          "text": [
            "Hello!\n",
            "World!\n",
            "Coding is fun!\n"
          ]
        }
      ]
    },
    {
      "cell_type": "code",
      "source": [
        "# Listing 3.2\n",
        "# banking app menu where semicolons are used but don't do anything\n",
        "\n",
        "print(\"Hello, welcome to the banking portal.\") ;\n",
        "print(\"In this portal, you can handle all your banking needs.\") ;\n",
        "print(\"Please enter a selection from the following menu\") ; \n",
        "print(\"Type Login to log in\") ;\n",
        "print(\"Type Quit to quit\") ;"
      ],
      "metadata": {
        "colab": {
          "base_uri": "https://localhost:8080/"
        },
        "id": "ExEvO_w0333V",
        "outputId": "06bafa3e-8798-436a-8261-6def33fa4435"
      },
      "execution_count": 60,
      "outputs": [
        {
          "output_type": "stream",
          "name": "stdout",
          "text": [
            "Hello, welcome to the banking portal.\n",
            "In this portal, you can handle all your banking needs.\n",
            "Please enter a selection from the following menu\n",
            "Type Login to log in\n",
            "Type Quit to quit\n"
          ]
        }
      ]
    },
    {
      "cell_type": "code",
      "source": [
        "# Listing 3.3\n",
        "# banking app menu more concise and semicolons work here\n",
        "\n",
        "print(\"Hello, welcome to the banking portal.\") ; print(\"In this portal, you can\"\n",
        "\"handle all your banking needs.\") ; print(\"Please enter a selection from the\" \n",
        "\"following menu\") ; print(\"Type Login to log in\") ; print(\"Type Quit to quit\") ;"
      ],
      "metadata": {
        "colab": {
          "base_uri": "https://localhost:8080/"
        },
        "id": "iWOxWCoj4qy_",
        "outputId": "a01a33dc-5b9b-4e02-e0d2-6a0b3a080197"
      },
      "execution_count": 61,
      "outputs": [
        {
          "output_type": "stream",
          "name": "stdout",
          "text": [
            "Hello, welcome to the banking portal.\n",
            "In this portal, you canhandle all your banking needs.\n",
            "Please enter a selection from thefollowing menu\n",
            "Type Login to log in\n",
            "Type Quit to quit\n"
          ]
        }
      ]
    },
    {
      "cell_type": "code",
      "source": [
        "# Listing 3.4\n",
        "# continuing with a backslash \\\n",
        "\n",
        "print(\"This is a loooooooooooooonnnnnnnnnnnnnnngggggggggggggggggggggggggggggg \\\n",
        "stringgggggggggggggggggggggggggggg\")"
      ],
      "metadata": {
        "colab": {
          "base_uri": "https://localhost:8080/"
        },
        "id": "QxCRGsHO6WL2",
        "outputId": "572e8796-73e6-4b41-804a-67c4c24c9851"
      },
      "execution_count": 62,
      "outputs": [
        {
          "output_type": "stream",
          "name": "stdout",
          "text": [
            "This is a loooooooooooooonnnnnnnnnnnnnnngggggggggggggggggggggggggggggg stringgggggggggggggggggggggggggggg\n"
          ]
        }
      ]
    },
    {
      "cell_type": "code",
      "source": [
        "# Listing 3.5 - remove the backlash and there will be a SyntaxError\n",
        "# Listing 3.6 - add the backslash and there will be no SyntaxError\n",
        "# a broken multiline instruction\n",
        "\n",
        "print(\n",
        "\"Hello, welcome to the banking portal. \\\n",
        "In this portal, you can handle all of your banking needs. \\\n",
        "Please enter a selection from the following menu. Type Login to log in. Type Quit \\\n",
        "to quit\" \\\n",
        ")"
      ],
      "metadata": {
        "colab": {
          "base_uri": "https://localhost:8080/"
        },
        "id": "240GE6v56s6B",
        "outputId": "2a291fad-f325-40da-c9fb-2d8cf30dc862"
      },
      "execution_count": 63,
      "outputs": [
        {
          "output_type": "stream",
          "name": "stdout",
          "text": [
            "Hello, welcome to the banking portal. In this portal, you can handle all of your banking needs. Please enter a selection from the following menu. Type Login to log in. Type Quit to quit\n"
          ]
        }
      ]
    },
    {
      "cell_type": "code",
      "source": [
        "# Listing 3.7 \n",
        "# showing case sensitivity \n",
        "# will get a NameError\n",
        "\n",
        "print(\"This will be displayed.\")\n",
        "# Print(\"This will throw an error.\")"
      ],
      "metadata": {
        "colab": {
          "base_uri": "https://localhost:8080/"
        },
        "id": "QLlApos08Lg-",
        "outputId": "f8ac0016-52ce-4cd2-a85c-24ebf3508309"
      },
      "execution_count": 64,
      "outputs": [
        {
          "output_type": "stream",
          "name": "stdout",
          "text": [
            "This will be displayed.\n"
          ]
        }
      ]
    },
    {
      "cell_type": "code",
      "source": [
        "# Listing 3.8 - adding comments\n",
        "\n",
        "\n",
        "# this is a comment\n",
        "# this is another comment\n",
        "print(\"This is an instruction\")"
      ],
      "metadata": {
        "colab": {
          "base_uri": "https://localhost:8080/"
        },
        "id": "krV-JDTU97HS",
        "outputId": "8a5c327c-5294-467d-9936-f0f68230c3a6"
      },
      "execution_count": 65,
      "outputs": [
        {
          "output_type": "stream",
          "name": "stdout",
          "text": [
            "This is an instruction\n"
          ]
        }
      ]
    },
    {
      "cell_type": "code",
      "source": [
        "# Listing 3.9 - updating banking menu with comments\n",
        "\n",
        "# add comment with the date where you added this code\n",
        "# example: Written by Robert Smith on 05/07/2020\n",
        "# example: Last edited on 05/08/2020\n",
        "print(\"Hello, welcome to the banking portal.\") \n",
        "print(\"In this portal, you can handle all your banking needs.\") \n",
        "print(\"Please enter a selection from the following menu\") \n",
        "print(\"Type Login to log in\") \n",
        "print(\"Type Quit to quit\") "
      ],
      "metadata": {
        "colab": {
          "base_uri": "https://localhost:8080/"
        },
        "id": "F01IJ6VV-W4b",
        "outputId": "7f31c5ff-6ef7-4d9b-d648-cea006992521"
      },
      "execution_count": 66,
      "outputs": [
        {
          "output_type": "stream",
          "name": "stdout",
          "text": [
            "Hello, welcome to the banking portal.\n",
            "In this portal, you can handle all your banking needs.\n",
            "Please enter a selection from the following menu\n",
            "Type Login to log in\n",
            "Type Quit to quit\n"
          ]
        }
      ]
    },
    {
      "cell_type": "code",
      "source": [
        "# using the input function\n",
        "\n",
        "input(\"How are you? \") # any data entered is converted to a str"
      ],
      "metadata": {
        "colab": {
          "base_uri": "https://localhost:8080/",
          "height": 53
        },
        "id": "I-MxWm_1_auE",
        "outputId": "959b7612-5d08-4bb6-fa19-1e085e3e58e9"
      },
      "execution_count": 67,
      "outputs": [
        {
          "name": "stdout",
          "output_type": "stream",
          "text": [
            "How are you? I'm great!\n"
          ]
        },
        {
          "output_type": "execute_result",
          "data": {
            "text/plain": [
              "\"I'm great!\""
            ],
            "application/vnd.google.colaboratory.intrinsic+json": {
              "type": "string"
            }
          },
          "metadata": {},
          "execution_count": 67
        }
      ]
    },
    {
      "cell_type": "code",
      "source": [
        "# Listing 3.10 - adding input() to our menu\n",
        "\n",
        "print(\"Hello, welcome to the banking portal.\") \n",
        "print(\"In this portal, you can handle all your banking needs.\") \n",
        "print(\"Please enter a selection from the following menu\") \n",
        "print(\"Type Login to log in\") \n",
        "print(\"Type Quit to quit\") \n",
        "input(\"Enter Login or Quit: \") # no variable so input won't be captured "
      ],
      "metadata": {
        "colab": {
          "base_uri": "https://localhost:8080/",
          "height": 140
        },
        "id": "KmxmFt6DAq7W",
        "outputId": "7fed07a1-b3e0-4aae-83d2-e004179b104f"
      },
      "execution_count": 68,
      "outputs": [
        {
          "name": "stdout",
          "output_type": "stream",
          "text": [
            "Hello, welcome to the banking portal.\n",
            "In this portal, you can handle all your banking needs.\n",
            "Please enter a selection from the following menu\n",
            "Type Login to log in\n",
            "Type Quit to quit\n",
            "Enter Login or Quit: Login\n"
          ]
        },
        {
          "output_type": "execute_result",
          "data": {
            "text/plain": [
              "'Login'"
            ],
            "application/vnd.google.colaboratory.intrinsic+json": {
              "type": "string"
            }
          },
          "metadata": {},
          "execution_count": 68
        }
      ]
    },
    {
      "cell_type": "code",
      "source": [
        "# Listing 3.11 - storing input in a variable\n",
        "\n",
        "firstname = input(\"Please enter your firstname: \") # variable to capture input\n",
        "lastname = input(\"Please enter your lastname: \") # variable to capture input\n",
        "print(\"Your name is: \") ; print(firstname + \" \" + lastname) ; # prints captured input"
      ],
      "metadata": {
        "colab": {
          "base_uri": "https://localhost:8080/"
        },
        "id": "7G3H1n1_BNt_",
        "outputId": "b8804e9e-9634-49a4-9d0a-5b422e074f66"
      },
      "execution_count": 69,
      "outputs": [
        {
          "output_type": "stream",
          "name": "stdout",
          "text": [
            "Please enter your firstname: Anthony\n",
            "Please enter your lastname: Iacullo\n",
            "Your name is: \n",
            "Anthony Iacullo\n"
          ]
        }
      ]
    }
  ]
}