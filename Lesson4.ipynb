{
  "nbformat": 4,
  "nbformat_minor": 0,
  "metadata": {
    "colab": {
      "name": "Lesson4.ipynb",
      "provenance": [],
      "authorship_tag": "ABX9TyMg2Ol0+SAsGKTZdHPWosV0",
      "include_colab_link": true
    },
    "kernelspec": {
      "name": "python3",
      "display_name": "Python 3"
    },
    "language_info": {
      "name": "python"
    }
  },
  "cells": [
    {
      "cell_type": "markdown",
      "metadata": {
        "id": "view-in-github",
        "colab_type": "text"
      },
      "source": [
        "<a href=\"https://colab.research.google.com/github/AnthonyIacullo/LearningPython/blob/main/Lesson4.ipynb\" target=\"_parent\"><img src=\"https://colab.research.google.com/assets/colab-badge.svg\" alt=\"Open In Colab\"/></a>"
      ]
    },
    {
      "cell_type": "code",
      "execution_count": 11,
      "metadata": {
        "colab": {
          "base_uri": "https://localhost:8080/",
          "height": 36
        },
        "id": "cdwLl_J0CFHD",
        "outputId": "aede61b4-01c6-412b-8748-8bd604a850fa"
      },
      "outputs": [
        {
          "output_type": "execute_result",
          "data": {
            "text/plain": [
              "'Lesson 4: Working with Basic Python Data Types'"
            ],
            "application/vnd.google.colaboratory.intrinsic+json": {
              "type": "string"
            }
          },
          "metadata": {},
          "execution_count": 11
        }
      ],
      "source": [
        "\"\"\"Lesson 4: Working with Basic Python Data Types\"\"\""
      ]
    },
    {
      "cell_type": "code",
      "source": [
        "# Listing 4.1 - Declaring number variables\n",
        "\n",
        "# variables defined\n",
        "age = 33 # integer\n",
        "tax_rate = 0.06 # float type\n",
        "coordinates = 1+3.4j # complex type z : a+b*j\n",
        "\n",
        "# output\n",
        "print(age, type(age))\n",
        "print(tax_rate, type(tax_rate))\n",
        "print(coordinates, type(coordinates))"
      ],
      "metadata": {
        "colab": {
          "base_uri": "https://localhost:8080/"
        },
        "id": "FRhrD1qwCRMi",
        "outputId": "91c3bccf-efd2-4db5-b77d-485203145e1b"
      },
      "execution_count": 12,
      "outputs": [
        {
          "output_type": "stream",
          "name": "stdout",
          "text": [
            "33 <class 'int'>\n",
            "0.06 <class 'float'>\n",
            "(1+3.4j) <class 'complex'>\n"
          ]
        }
      ]
    },
    {
      "cell_type": "code",
      "source": [
        "# Listing 4.2 - Variables for a banking application\n",
        "\n",
        "# variables defined\n",
        "acctBal = 13445 ;\n",
        "savInterest = 0.025 ;\n",
        "months = 12 ;\n",
        "alphanum = 1+52.4j ;\n",
        "\n",
        "# output\n",
        "print(acctBal, type(acctBal)) ;\n",
        "print(savInterest, type(savInterest)) ;\n",
        "print(months, type(months)) ;\n",
        "print(alphanum, type(alphanum)) ;"
      ],
      "metadata": {
        "colab": {
          "base_uri": "https://localhost:8080/"
        },
        "id": "6lr6I6KnD0ta",
        "outputId": "a2d6cc79-9642-42bf-c9a4-b2d1f6283143"
      },
      "execution_count": 13,
      "outputs": [
        {
          "output_type": "stream",
          "name": "stdout",
          "text": [
            "13445 <class 'int'>\n",
            "0.025 <class 'float'>\n",
            "12 <class 'int'>\n",
            "(1+52.4j) <class 'complex'>\n"
          ]
        }
      ]
    },
    {
      "cell_type": "code",
      "source": [
        "# Listing 4.3 - Checking a variables type\n",
        "\n",
        "# variables defined\n",
        "a = 5 # int typr\n",
        "b = 6.7 # float type\n",
        "c = 1+2j # complex type\n",
        "d = \"2022\" # string type inside quotation marks\n",
        "\n",
        "# output\n",
        "print(a, \"is of\", type(a)) ; print(b, \"is of\", type(b)) ; \n",
        "print(c, \"is of\", type(c)) ; print(d, \"is of\", type(d)) ;"
      ],
      "metadata": {
        "colab": {
          "base_uri": "https://localhost:8080/"
        },
        "id": "7ct5JJtPFLfQ",
        "outputId": "62529428-fb38-46f1-f165-11bd9ecd90f7"
      },
      "execution_count": 14,
      "outputs": [
        {
          "output_type": "stream",
          "name": "stdout",
          "text": [
            "5 is of <class 'int'>\n",
            "6.7 is of <class 'float'>\n",
            "(1+2j) is of <class 'complex'>\n",
            "2022 is of <class 'str'>\n"
          ]
        }
      ]
    },
    {
      "cell_type": "code",
      "source": [
        "# Listing 4.4 - Creating variables\n",
        "\n",
        "# variables defined\n",
        "acctBal = 13445 ;\n",
        "savInterest = 0.025 ;\n",
        "months = 12 ;\n",
        "alphanum = 1+52.4j ;\n",
        "numString = \"12345\" ;\n",
        "\n",
        "# output\n",
        "print(acctBal,\"is of\", type(acctBal)) ;\n",
        "print(savInterest, \"is of\", type(savInterest)) ;\n",
        "print(months, \"is of\", type(months)) ;\n",
        "print(alphanum, \"is of\", type(alphanum)) ;\n",
        "print(numString, \"is of\", type(numString)) ;"
      ],
      "metadata": {
        "colab": {
          "base_uri": "https://localhost:8080/"
        },
        "id": "zeX1wkuCFzsc",
        "outputId": "2b09a200-4107-4019-8750-eab34457a679"
      },
      "execution_count": 15,
      "outputs": [
        {
          "output_type": "stream",
          "name": "stdout",
          "text": [
            "13445 is of <class 'int'>\n",
            "0.025 is of <class 'float'>\n",
            "12 is of <class 'int'>\n",
            "(1+52.4j) is of <class 'complex'>\n",
            "12345 is of <class 'str'>\n"
          ]
        }
      ]
    },
    {
      "cell_type": "code",
      "source": [
        "# Listing 4.5 - Arithmetic operations\n",
        "\n",
        "# variables defined before any operations\n",
        "a = 50 # operand\n",
        "b = 6 # operand\n",
        "\n",
        "# operations\n",
        "c = a + b # sum of a and b\n",
        "d = a - b # difference between a and b\n",
        "e = a * b # product of a and b\n",
        "f = a / b # quotient of a and b\n",
        "g = a // b # floored quotient of a and b\n",
        "h = a % b # remainder of a / b\n",
        "i = a ** b # a to the power of b\n",
        "\n",
        "# output\n",
        "print(c) ; print(d) ; print(e) ; print(f) ; print(g) ; print(h) ; print(i) ;"
      ],
      "metadata": {
        "colab": {
          "base_uri": "https://localhost:8080/"
        },
        "id": "48U7fkVbIK3u",
        "outputId": "5b58625d-ecce-4252-aba1-217fbbb5397b"
      },
      "execution_count": 16,
      "outputs": [
        {
          "output_type": "stream",
          "name": "stdout",
          "text": [
            "56\n",
            "44\n",
            "300\n",
            "8.333333333333334\n",
            "8\n",
            "2\n",
            "15625000000\n"
          ]
        }
      ]
    },
    {
      "cell_type": "code",
      "source": [
        "# Listing 4.6 - Updated banking program with numeric variables\n",
        "\n",
        "# variables defined\n",
        "acctBal = 13445 ; # account balance\n",
        "locBal = 16000 ; # line of credit balance\n",
        "savBal = 4000 ; # savings balance\n",
        "savInterest = 0.025 ; # savings interest\n",
        "locInterest = 0.098 ; # line of credit interest\n",
        "\n",
        "months = 12 ; \n",
        "years = 8.5 ;\n",
        "numString = \"12345\" ;\n",
        "\n",
        "# operations\n",
        "result1 = acctBal + savBal -locBal ;\n",
        "result2 = acctBal - locBal * locInterest ;\n",
        "result3 = savBal * months * savInterest ;\n",
        "result4 = acctBal / savBal / locBal ;\n",
        "result5 = savBal * 1 + savInterest / months ** years ;\n",
        "\n",
        "# output\n",
        "print(result1) ; print(result2) ; print(result3) ; print(result4) ; \n",
        "print(result5) ; \n",
        "\n",
        "# warning message\n",
        "print(\"\\nResults of the calculations are wrong... due to PEMDAS\")"
      ],
      "metadata": {
        "colab": {
          "base_uri": "https://localhost:8080/"
        },
        "id": "adz9kYtOJoq6",
        "outputId": "5a1c6a2a-dbc3-4209-ce5b-8a974ab12372"
      },
      "execution_count": 21,
      "outputs": [
        {
          "output_type": "stream",
          "name": "stdout",
          "text": [
            "1445\n",
            "11877.0\n",
            "1200.0\n",
            "0.000210078125\n",
            "4000.000000000017\n",
            "\n",
            "Results of the calculations are wrong... due to PEMDAS\n"
          ]
        }
      ]
    },
    {
      "cell_type": "code",
      "source": [
        "# Listing 4.7 - Predict the output of the calculation\n",
        "\n",
        "# variables defined\n",
        "a = 10\n",
        "b = 20\n",
        "c = 30\n",
        "\n",
        "# operations\n",
        "d = a - b * c\n",
        "e = (a - b) * c\n",
        "f = a % b ** c\n",
        "g = (a % b) ** c\n",
        "\n",
        "# output\n",
        "print(\"a - b * c =\", d) ; print(\"(a - b) * c =\", e) ; \n",
        "print(\"a % b ** c =\", f) ; print(\"(a % b) ** c =\", g)"
      ],
      "metadata": {
        "colab": {
          "base_uri": "https://localhost:8080/"
        },
        "id": "kTu_-T9JMbf8",
        "outputId": "0ca4fc3a-a540-447d-8f30-c4fe6f0ec9b3"
      },
      "execution_count": 24,
      "outputs": [
        {
          "output_type": "stream",
          "name": "stdout",
          "text": [
            "a - b * c = -590\n",
            "(a - b) * c = -300\n",
            "a % b ** c = 10\n",
            "(a % b) ** c = 1000000000000000000000000000000\n"
          ]
        }
      ]
    }
  ]
}