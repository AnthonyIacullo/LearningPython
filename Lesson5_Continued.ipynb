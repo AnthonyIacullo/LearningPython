{
  "nbformat": 4,
  "nbformat_minor": 0,
  "metadata": {
    "colab": {
      "name": "Lesson5_Continued.ipynb",
      "provenance": [],
      "collapsed_sections": [],
      "authorship_tag": "ABX9TyOSt6MqEel0UnV8DxjAQAma",
      "include_colab_link": true
    },
    "kernelspec": {
      "name": "python3",
      "display_name": "Python 3"
    },
    "language_info": {
      "name": "python"
    }
  },
  "cells": [
    {
      "cell_type": "markdown",
      "metadata": {
        "id": "view-in-github",
        "colab_type": "text"
      },
      "source": [
        "<a href=\"https://colab.research.google.com/github/AnthonyIacullo/LearningPython/blob/main/Lesson5_Continued.ipynb\" target=\"_parent\"><img src=\"https://colab.research.google.com/assets/colab-badge.svg\" alt=\"Open In Colab\"/></a>"
      ]
    },
    {
      "cell_type": "code",
      "execution_count": 2,
      "metadata": {
        "colab": {
          "base_uri": "https://localhost:8080/"
        },
        "id": "NElF7EpgOKL6",
        "outputId": "0adf2d04-df24-4dd1-be31-9520cbffc29c"
      },
      "outputs": [
        {
          "output_type": "stream",
          "name": "stdout",
          "text": [
            "Please enter a valid color.\n"
          ]
        }
      ],
      "source": [
        "# Listing 5.5 - Using elif\n",
        "\n",
        "# var def\n",
        "color = \"morning\" ;\n",
        "\n",
        "# nested conditions where color var is compared to a sequence of other words\n",
        "if color == \"red\":\n",
        "  print(\"The color is red.\")\n",
        "elif color == \"blue\":\n",
        "  print(\"The color is blue.\")\n",
        "elif color == \"yellow\":\n",
        "  print(\"The color is yellow.\")\n",
        "else:\n",
        "  print(\"Please enter a valid color.\")"
      ]
    },
    {
      "cell_type": "code",
      "source": [
        "# Listing 5.6 - Selecting a color\n",
        "\n",
        "# var def\n",
        "color = input(\"Please enter a color (red, green, yellow, blue, pink): \")\n",
        "\n",
        "# nested conditions where color var is compared to a sequence of other words\n",
        "if color == \"red\":\n",
        "  print(\"The color is red.\")\n",
        "elif color == \"green\":\n",
        "  print(\"The color is green.\")\n",
        "elif color == \"yellow\":\n",
        "  print(\"The color is yellow.\")\n",
        "elif color == \"blue\":\n",
        "  print(\"The color is blue.\")\n",
        "elif color == \"pink\":\n",
        "  print(\"The color is pink.\")\n",
        "else:\n",
        "  print(\"Please enter a valid color.\")"
      ],
      "metadata": {
        "colab": {
          "base_uri": "https://localhost:8080/"
        },
        "id": "HxCt8s4RQitU",
        "outputId": "70da11db-e32e-4951-f905-758a9b5f6e7a"
      },
      "execution_count": 3,
      "outputs": [
        {
          "output_type": "stream",
          "name": "stdout",
          "text": [
            "Please enter a color (red, green, yellow, blue, pink): blue\n",
            "The color is blue.\n"
          ]
        }
      ]
    },
    {
      "cell_type": "code",
      "source": [
        "# Listing 5.7 - Selecting a color with if-else\n",
        "\n",
        "# var def\n",
        "color = input(\"Please enter a color (red, green, yellow, blue, pink): \")\n",
        "\n",
        "# if-else statement\n",
        "if color == \"red\":\n",
        "  print(\"The color is red.\")\n",
        "else:\n",
        "  if color == \"green\":\n",
        "    print(\"The color is green.\")\n",
        "  else: \n",
        "    if color == \"yellow\":\n",
        "      print(\"The colore is yellow.\")\n",
        "    else:\n",
        "      if color == \"blue\":\n",
        "        print(\"The color is blue.\")\n",
        "      else:\n",
        "        if color == \"pink\":\n",
        "          print(\"The color is pink.\")\n",
        "        else:\n",
        "          print(\"Please enter a valid color.\")"
      ],
      "metadata": {
        "colab": {
          "base_uri": "https://localhost:8080/"
        },
        "id": "fNl7j_gbRRbN",
        "outputId": "8c79accd-34d0-42aa-ace2-9d37f81c7cbf"
      },
      "execution_count": 5,
      "outputs": [
        {
          "output_type": "stream",
          "name": "stdout",
          "text": [
            "Please enter a color (red, green, yellow, blue, pink): pink\n",
            "The color is pink.\n"
          ]
        }
      ]
    },
    {
      "cell_type": "code",
      "source": [
        "# Listing 5.8 - Checking a credit score\n",
        "\n",
        "# var def\n",
        "creditscore = int(input(\"Please enter a credit score: \"))\n",
        "\n",
        "# if-elif statement\n",
        "if creditscore <= 450:\n",
        "  print(\"This credit score is very low.\")\n",
        "elif creditscore > 450 and creditscore <= 650:\n",
        "  print(\"This credit score is low.\")\n",
        "elif creditscore > 650 and creditscore <= 800:\n",
        "  print(\"This credit score is good.\")\n",
        "elif creditscore > 800 and creditscore <= 850:\n",
        "  print(\"This credit score is excellent.\")\n",
        "else:\n",
        "  print(\"Please enter a valid credit score between 0 and 850.\")"
      ],
      "metadata": {
        "colab": {
          "base_uri": "https://localhost:8080/"
        },
        "id": "xiUIK8nFTiIu",
        "outputId": "e9f78cfb-139b-4c8e-d6d9-87677bf56d1c"
      },
      "execution_count": 6,
      "outputs": [
        {
          "output_type": "stream",
          "name": "stdout",
          "text": [
            "Please enter a credit score: 725\n",
            "This credit score is good.\n"
          ]
        }
      ]
    },
    {
      "cell_type": "code",
      "source": [
        "# Checking a credit score with if-else\n",
        "\n",
        "# var def\n",
        "creditscore = int(input(\"Please enter a credit score: \"))\n",
        "\n",
        "# if-else statement\n",
        "if creditscore <= 450:\n",
        "  print(\"This credit score is very low.\")\n",
        "else:\n",
        "  if creditscore > 450 and creditscore <= 650:\n",
        "    print(\"This credit score is low.\")\n",
        "  else:\n",
        "    if creditscore > 650 and creditscore <= 800:\n",
        "      print(\"This credit score is good.\")\n",
        "    else:\n",
        "      if creditscore > 800 and creditscore <= 850:\n",
        "        print(\"This credit score is excellent.\")"
      ],
      "metadata": {
        "colab": {
          "base_uri": "https://localhost:8080/"
        },
        "id": "ns5HlbtXVW2H",
        "outputId": "22009e6a-26bd-48f5-daec-7e313f709997"
      },
      "execution_count": 8,
      "outputs": [
        {
          "output_type": "stream",
          "name": "stdout",
          "text": [
            "Please enter a credit score: 775\n",
            "This credit score is good.\n"
          ]
        }
      ]
    },
    {
      "cell_type": "code",
      "source": [
        "# Listing 5.9 - Embedding conditions\n",
        "\n",
        "# var def\n",
        "age = 21\n",
        "\n",
        "# if-else statement\n",
        "if age >= 16:\n",
        "  # True if age >= 16\n",
        "  print(\"This person is allowed to drive.\")\n",
        "else:\n",
        "  # False if age < 16\n",
        "  print(\"This person is NOT allowed to drive.\")"
      ],
      "metadata": {
        "colab": {
          "base_uri": "https://localhost:8080/"
        },
        "id": "QCVwVndlWTFM",
        "outputId": "1d90f79f-1e77-4de6-d9ff-d4cfe7f79766"
      },
      "execution_count": 12,
      "outputs": [
        {
          "output_type": "stream",
          "name": "stdout",
          "text": [
            "This person is allowed to drive.\n"
          ]
        }
      ]
    },
    {
      "cell_type": "code",
      "source": [
        "# Listing 5.10 - Checking the case of the character\n",
        "\n",
        "# var def\n",
        "letter = input(\"Please enter a single leter: \")\n",
        "\n",
        "# if-else statement\n",
        "if letter.isupper():\n",
        "  print(\"The user entered an uppercase letter:\", letter)\n",
        "else:\n",
        "  print(\"The user entered a lowercase letter:\", letter)"
      ],
      "metadata": {
        "colab": {
          "base_uri": "https://localhost:8080/"
        },
        "id": "G9F0ovwZZIhc",
        "outputId": "6566532e-5b04-4f27-8770-2f7376a9f985"
      },
      "execution_count": 14,
      "outputs": [
        {
          "output_type": "stream",
          "name": "stdout",
          "text": [
            "Please enter a single leter: A\n",
            "The user entered an uppercase letter: A\n"
          ]
        }
      ]
    }
  ]
}