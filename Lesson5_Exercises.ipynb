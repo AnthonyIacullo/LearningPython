{
  "nbformat": 4,
  "nbformat_minor": 0,
  "metadata": {
    "colab": {
      "name": "Lesson5_Exercises.ipynb",
      "provenance": [],
      "collapsed_sections": [],
      "authorship_tag": "ABX9TyN89tpOTjWJmfdX3uVIZm2+",
      "include_colab_link": true
    },
    "kernelspec": {
      "name": "python3",
      "display_name": "Python 3"
    },
    "language_info": {
      "name": "python"
    }
  },
  "cells": [
    {
      "cell_type": "markdown",
      "metadata": {
        "id": "view-in-github",
        "colab_type": "text"
      },
      "source": [
        "<a href=\"https://colab.research.google.com/github/AnthonyIacullo/LearningPython/blob/main/Lesson5_Exercises.ipynb\" target=\"_parent\"><img src=\"https://colab.research.google.com/assets/colab-badge.svg\" alt=\"Open In Colab\"/></a>"
      ]
    },
    {
      "cell_type": "code",
      "execution_count": 1,
      "metadata": {
        "colab": {
          "base_uri": "https://localhost:8080/"
        },
        "id": "1MA5A6GvfCPJ",
        "outputId": "30ece257-51b8-4519-f399-c1a8c00ef7bf"
      },
      "outputs": [
        {
          "output_type": "stream",
          "name": "stdout",
          "text": [
            "How much money is in your wallet?: $50\n",
            "You're rich!\n"
          ]
        }
      ],
      "source": [
        "# Exercise 1: Are you rich?\n",
        "\n",
        "# var def\n",
        "total_cash = int(input(\"How much money is in your wallet?: $\"))\n",
        "\n",
        "# if-else\n",
        "if total_cash >= 20:\n",
        "  print(\"You're rich!\")\n",
        "else:\n",
        "  print(\"You're broke!\")"
      ]
    },
    {
      "cell_type": "code",
      "source": [
        "# Exercise 2: Cats or Dogs using ifs\n",
        "\n",
        "#var def\n",
        "cat = input(\"Do you own any cats? (Y/N): \")\n",
        "dog = input(\"Do you own any dogs?  (Y/N): \")\n",
        "\n",
        "# if statements\n",
        "if cat.upper() == \"Y\" and dog.upper() == \"Y\":\n",
        "  print(\"You must really love pets!\")\n",
        "if cat.upper() == \"Y\" and dog.upper() == \"N\":\n",
        "  print(\"Maybe you need more pets.\")\n",
        "if cat.upper() == \"N\" and dog.upper() == \"Y\":\n",
        "  print(\"Maybe you need more pets.\")\n",
        "if cat.upper() == \"N\" and dog.upper() == \"N\":\n",
        "  print(\"Maybe you need more pets.\")"
      ],
      "metadata": {
        "colab": {
          "base_uri": "https://localhost:8080/"
        },
        "id": "xgVF-26pgmtO",
        "outputId": "fa60eaad-d8f9-43e4-8494-5603724dafda"
      },
      "execution_count": 2,
      "outputs": [
        {
          "output_type": "stream",
          "name": "stdout",
          "text": [
            "Do you own any cats? (Y/N): y\n",
            "Do you own any dogs?  (Y/N): n\n",
            "Maybe you need more pets.\n"
          ]
        }
      ]
    },
    {
      "cell_type": "code",
      "source": [
        "# Exercise 2: Cats or Dogs using if-else\n",
        "\n",
        "# var def\n",
        "cat = input(\"Do you own any cats? (Y/N): \")\n",
        "dog = input(\"Do you own any dogs?  (Y/N): \")\n",
        "\n",
        "# if-else statement\n",
        "if cat.upper() == \"Y\" and dog.upper() == \"Y\":\n",
        "  print(\"You must really love pets!\")\n",
        "else:\n",
        "  print(\"Maybe you need more pets.\")"
      ],
      "metadata": {
        "colab": {
          "base_uri": "https://localhost:8080/"
        },
        "id": "bYQgSe_Li2dE",
        "outputId": "e6442417-a99c-4b24-cb2b-6794e450a198"
      },
      "execution_count": 3,
      "outputs": [
        {
          "output_type": "stream",
          "name": "stdout",
          "text": [
            "Do you own any cats? (Y/N): y\n",
            "Do you own any dogs?  (Y/N): y\n",
            "You must really love pets!\n"
          ]
        }
      ]
    },
    {
      "cell_type": "code",
      "source": [
        "# Exercise 3: True or False Quiz\n",
        "\n",
        "print(\"Please answer the following True or False questions:\\n\")\n",
        "\n",
        "# var def\n",
        "total_questions = 5 # number of questions asked\n",
        "correct_answers = 0 # number of questions answered correctly\n",
        "\n",
        "question1 = input(\"5 > 2 is (T/F): \") # user answer to q1\n",
        "question2 = input(\"0 = 1 is (T/F): \") # user answer to q2\n",
        "question3 = input(\"7 + 3 = 9 is (T/F): \") # user answer to q3\n",
        "question4 = input(\"20 - 10 = 10 is (T/F): \") # user answer to q4\n",
        "question5 = input(\"2 x 2 = 4 is (T/F): \") # user anser to q5\n",
        "\n",
        "# add up all the correct answers\n",
        "if question1.upper() == \"T\":\n",
        "  correct_answers = correct_answers + 1\n",
        "if question2.upper() == \"F\":\n",
        "  correct_answers = correct_answers + 1\n",
        "if question3.upper() == \"F\":\n",
        "  correct_answers = correct_answers + 1\n",
        "if question4.upper() == \"T\":\n",
        "  correct_answers = correct_answers + 1\n",
        "if question5.upper() == \"T\":\n",
        "  correct_answers = correct_answers + 1\n",
        "\n",
        "# output the results\n",
        "print(\"\\nResults:\")\n",
        "print(\"Question 1:\", 5 > 2, \"\\t\", \"Your answer:\", question1.upper())\n",
        "print(\"Question 2:\", 0 ==1, \"\\t\", \"Your answer:\", question2.upper())\n",
        "print(\"Question 3:\", ((7 + 3) == 9), \"\\t\", \"Your answer:\", question3.upper())\n",
        "print(\"Question 4:\", ((20 - 10) == 10), \"\\t\", \"Your answer:\", question4.upper())\n",
        "print(\"Question 5:\", ((2 * 2) == 4), \"\\t\", \"Your answer:\", question5.upper())\n",
        "\n",
        "# output quiz score\n",
        "print(\"\\nCorrect response rate: \", (correct_answers/total_questions) * 100, \"%\")"
      ],
      "metadata": {
        "colab": {
          "base_uri": "https://localhost:8080/"
        },
        "id": "iRuSHoZ1jQr-",
        "outputId": "d9892b85-0c56-4cb3-9589-f7e5324df1db"
      },
      "execution_count": 4,
      "outputs": [
        {
          "output_type": "stream",
          "name": "stdout",
          "text": [
            "Please answer the following True or False questions:\n",
            "\n",
            "5 > 2 is (T/F): T\n",
            "0 = 1 is (T/F): F\n",
            "7 + 3 = 9 is (T/F): f\n",
            "20 - 10 = 10 is (T/F): t\n",
            "2 x 2 = 4 is (T/F): T\n",
            "\n",
            "Results:\n",
            "Question 1: True \t Your answer: T\n",
            "Question 2: False \t Your answer: F\n",
            "Question 3: False \t Your answer: F\n",
            "Question 4: True \t Your answer: T\n",
            "Question 5: True \t Your answer: T\n",
            "\n",
            "Correct response rate:  100.0 %\n"
          ]
        }
      ]
    }
  ]
}